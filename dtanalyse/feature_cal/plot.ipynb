{
 "cells": [
  {
   "cell_type": "code",
   "execution_count": 1,
   "id": "f7be3408",
   "metadata": {},
   "outputs": [
    {
     "name": "stdout",
     "output_type": "stream",
     "text": [
      "26.731910228729248\n",
      "26.796015977859497\n",
      "26.796046495437622\n"
     ]
    }
   ],
   "source": [
    "import os, sys, logging\n",
    "\n",
    "if \"../\" not in sys.path:\n",
    "    sys.path.append(\"../\")\n",
    "\n",
    "from data_generator import *\n",
    "from feature import FeatureGenerator, FeatureConfig\n",
    "from util.hedge_log import initlog\n",
    "import numpy as np\n",
    "import queue\n",
    "import joblib\n",
    "\n",
    "\n",
    "begin_time = datetime.datetime(2024, 3, 27, 21,tzinfo=TZ_8)\n",
    "end_time = datetime.datetime(2024, 3, 27, 21, 59,tzinfo=TZ_8)\n",
    "exchange = 'binance'\n",
    "symbol = 'btc_usdt'\n",
    "\n",
    "trade_prc = []\n",
    "\n",
    "for idx, row in enumerate(\n",
    "    get_data_generator(begin_time, end_time, exchange, symbol)\n",
    "):\n",
    "\n",
    "    if row[1] == \"trade\":\n",
    "        \"\"\"\n",
    "            ({'aggressor_side': 'sell', 'price': 42590.13, 'size': 0.00117, 'ts_event': 1702746000004000000}, 'trade')\n",
    "        \"\"\"\n",
    "        trade_prc.append([row[0].ts_event, row[0].price])\n",
    "\n",
    "\n",
    "fe_list = joblib.load('fe_list.pkl')\n",
    "\n",
    "tmp = np.array(trade_prc)\n",
    "fe_list = np.array(fe_list)"
   ]
  },
  {
   "cell_type": "code",
   "execution_count": 14,
   "id": "10d435eb-6bb8-4612-8dd3-d27657bdeeff",
   "metadata": {},
   "outputs": [
    {
     "data": {
      "text/plain": [
       "array([[['Breadth_2_4', None, None],\n",
       "        ['Immediacy_2_4', None, None],\n",
       "        ['VolumeAvg_2_4', None, None]],\n",
       "\n",
       "       [['Breadth_2_4', None, None],\n",
       "        ['Immediacy_2_4', None, None],\n",
       "        ['VolumeAvg_2_4', None, None]],\n",
       "\n",
       "       [['Breadth_2_4', None, None],\n",
       "        ['Immediacy_2_4', None, None],\n",
       "        ['VolumeAvg_2_4', None, None]],\n",
       "\n",
       "       [['Breadth_2_4', None, None],\n",
       "        ['Immediacy_2_4', None, None],\n",
       "        ['VolumeAvg_2_4', None, None]]], dtype=object)"
      ]
     },
     "execution_count": 14,
     "metadata": {},
     "output_type": "execute_result"
    }
   ],
   "source": [
    "fe_list[:4]"
   ]
  },
  {
   "cell_type": "code",
   "execution_count": 17,
   "id": "b09a668a",
   "metadata": {},
   "outputs": [],
   "source": [
    "fe_plot = list()\n",
    "feature_num = 2\n",
    "for i in range(fe_list.shape[0]):\n",
    "    fe_value = fe_list[i,feature_num,:]\n",
    "    if fe_value[2] is not None:\n",
    "        fe_plot.append([int(fe_value[1]),float(fe_value[2])])\n",
    "\n",
    "fe_plot = np.array(fe_plot)\n",
    "if fe_plot[0][0] > 1002746002117000000000:\n",
    "    fe_plot[:,0] = fe_plot[:,0]/1000"
   ]
  },
  {
   "cell_type": "code",
   "execution_count": 18,
   "id": "baea2bc3",
   "metadata": {},
   "outputs": [],
   "source": [
    "import plotly.graph_objects as go\n",
    "from plotly.subplots import make_subplots\n",
    "\n",
    "# 创建一个带有两个Y轴的图形\n",
    "fig = make_subplots(specs=[[{\"secondary_y\": True}]])\n",
    "\n",
    "\n",
    "x_time = pd.to_datetime(pd.Series(fe_plot[:,0]))\n",
    "\n",
    "# 添加第一个数据系列到图形，使用默认的Y轴\n",
    "fig.add_trace(\n",
    "    go.Scatter(x= pd.to_datetime(pd.Series(tmp[:,0])), y=tmp[:,1], name=\"系列 1\"),\n",
    "    secondary_y=False,\n",
    ")\n",
    "\n",
    "# 添加第二个数据系列到图形，使用第二个Y轴\n",
    "fig.add_trace(\n",
    "    go.Scatter(x= x_time, y=fe_plot[:,1].reshape(-1), name=\"系列 2\"),\n",
    "    secondary_y=True,\n",
    ")\n",
    "\n",
    "# 设置图表的标题\n",
    "fig.update_layout(title_text= fe_list[:,:,0][0][0])\n",
    "\n",
    "# 设置x轴标题\n",
    "fig.update_xaxes(title_text=\"x轴\")\n",
    "\n",
    "# 设置左侧Y轴的标题\n",
    "fig.update_yaxes(title_text=\"主Y轴\", secondary_y=False)\n",
    "\n",
    "# 设置右侧Y轴的标题\n",
    "fig.update_yaxes(title_text=\"次Y轴\", secondary_y=True)\n",
    "\n",
    "fig.write_html(\"feature_plot/f_plot_\"+fe_list[:,:,0][0][feature_num]+\".html\")"
   ]
  },
  {
   "cell_type": "code",
   "execution_count": null,
   "id": "abfc2ab9",
   "metadata": {},
   "outputs": [],
   "source": []
  }
 ],
 "metadata": {
  "kernelspec": {
   "display_name": "Python 3 (ipykernel)",
   "language": "python",
   "name": "python3"
  },
  "language_info": {
   "codemirror_mode": {
    "name": "ipython",
    "version": 3
   },
   "file_extension": ".py",
   "mimetype": "text/x-python",
   "name": "python",
   "nbconvert_exporter": "python",
   "pygments_lexer": "ipython3",
   "version": "3.11.7"
  }
 },
 "nbformat": 4,
 "nbformat_minor": 5
}
