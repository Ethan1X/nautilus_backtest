{
 "cells": [
  {
   "cell_type": "code",
   "execution_count": 1,
   "metadata": {},
   "outputs": [],
   "source": [
    "import pandas as pd\n",
    "import numpy as np\n",
    "from matplotlib import pyplot as plt\n",
    "import statsmodels.api as sm\n",
    "from tqdm import tqdm"
   ]
  },
  {
   "cell_type": "code",
   "execution_count": 2,
   "metadata": {},
   "outputs": [],
   "source": [
    "from cal_regre_engine import CalRegreEngine"
   ]
  },
  {
   "cell_type": "code",
   "execution_count": 3,
   "metadata": {},
   "outputs": [],
   "source": [
    "import warnings\n",
    "warnings.filterwarnings(\"ignore\")"
   ]
  },
  {
   "cell_type": "code",
   "execution_count": null,
   "metadata": {},
   "outputs": [],
   "source": []
  },
  {
   "cell_type": "markdown",
   "metadata": {},
   "source": [
    "### 1. Generate the Variables\n"
   ]
  },
  {
   "cell_type": "markdown",
   "metadata": {},
   "source": [
    "- window_len = 50\n"
   ]
  },
  {
   "cell_type": "code",
   "execution_count": 4,
   "metadata": {},
   "outputs": [],
   "source": [
    "window_len = 50"
   ]
  },
  {
   "cell_type": "markdown",
   "metadata": {},
   "source": [
    "##### Calculate the Diff and MLOFI\n"
   ]
  },
  {
   "cell_type": "code",
   "execution_count": 5,
   "metadata": {},
   "outputs": [],
   "source": [
    "generator_option = False\n",
    "if generator_option:\n",
    "    for i in [25, 26, 27, 28, 30]:\n",
    "        depth_path = 'data/btc_usdt/depth_202401' + str(i) + '.parquet'\n",
    "        depth_data = pd.read_parquet(depth_path)\n",
    "        diff = CalRegreEngine.cal_mid_price_diff(depth_data, window_len=window_len, test_len=None)\n",
    "        # diff.to_parquet(\"datasets/mid_price_diff_01\" + str(i) + \".parquet\")\n",
    "\n",
    "        mlofi = CalRegreEngine.cal_mlofi(depth_data, M=5, window_len=window_len, test_len=None)\n",
    "        # mlofi.to_parquet(\"datasets/mlofi_01\" + str(i) + \".parquet\")\n",
    "\n",
    "        print(str(i) + ' done')"
   ]
  },
  {
   "cell_type": "code",
   "execution_count": 7,
   "metadata": {},
   "outputs": [],
   "source": [
    "day = 24\n",
    "mlofi_df1 = pd.read_parquet(\"data/mlofi/mlofi_01\" + str(day) + \".parquet\")\n",
    "mid_price_diff1 = pd.read_parquet(\"data/mid_price_diff/mid_price_diff_01\" + str(day) + \".parquet\")"
   ]
  },
  {
   "cell_type": "code",
   "execution_count": 8,
   "metadata": {},
   "outputs": [
    {
     "data": {
      "text/plain": [
       "((17182, 5), (17182, 1))"
      ]
     },
     "execution_count": 8,
     "metadata": {},
     "output_type": "execute_result"
    }
   ],
   "source": [
    "mlofi_df1.shape, mid_price_diff1.shape"
   ]
  },
  {
   "cell_type": "code",
   "execution_count": 11,
   "metadata": {},
   "outputs": [
    {
     "data": {
      "text/html": [
       "<div>\n",
       "<style scoped>\n",
       "    .dataframe tbody tr th:only-of-type {\n",
       "        vertical-align: middle;\n",
       "    }\n",
       "\n",
       "    .dataframe tbody tr th {\n",
       "        vertical-align: top;\n",
       "    }\n",
       "\n",
       "    .dataframe thead th {\n",
       "        text-align: right;\n",
       "    }\n",
       "</style>\n",
       "<table border=\"1\" class=\"dataframe\">\n",
       "  <thead>\n",
       "    <tr style=\"text-align: right;\">\n",
       "      <th></th>\n",
       "      <th>mlofi1</th>\n",
       "      <th>mlofi2</th>\n",
       "      <th>mlofi3</th>\n",
       "      <th>mlofi4</th>\n",
       "      <th>mlofi5</th>\n",
       "    </tr>\n",
       "  </thead>\n",
       "  <tbody>\n",
       "    <tr>\n",
       "      <th>0</th>\n",
       "      <td>-1.99673</td>\n",
       "      <td>-0.31191</td>\n",
       "      <td>0.35680</td>\n",
       "      <td>-1.75933</td>\n",
       "      <td>0.42191</td>\n",
       "    </tr>\n",
       "    <tr>\n",
       "      <th>1</th>\n",
       "      <td>59.65490</td>\n",
       "      <td>3.82402</td>\n",
       "      <td>13.38811</td>\n",
       "      <td>4.45591</td>\n",
       "      <td>3.23606</td>\n",
       "    </tr>\n",
       "    <tr>\n",
       "      <th>2</th>\n",
       "      <td>13.26167</td>\n",
       "      <td>0.39202</td>\n",
       "      <td>0.73904</td>\n",
       "      <td>1.20042</td>\n",
       "      <td>0.81627</td>\n",
       "    </tr>\n",
       "    <tr>\n",
       "      <th>3</th>\n",
       "      <td>-0.90033</td>\n",
       "      <td>-0.08089</td>\n",
       "      <td>0.08742</td>\n",
       "      <td>-1.10026</td>\n",
       "      <td>-0.56421</td>\n",
       "    </tr>\n",
       "    <tr>\n",
       "      <th>4</th>\n",
       "      <td>-1.35211</td>\n",
       "      <td>-0.06240</td>\n",
       "      <td>-0.68546</td>\n",
       "      <td>-0.01189</td>\n",
       "      <td>1.01046</td>\n",
       "    </tr>\n",
       "  </tbody>\n",
       "</table>\n",
       "</div>"
      ],
      "text/plain": [
       "     mlofi1   mlofi2    mlofi3   mlofi4   mlofi5\n",
       "0  -1.99673 -0.31191   0.35680 -1.75933  0.42191\n",
       "1  59.65490  3.82402  13.38811  4.45591  3.23606\n",
       "2  13.26167  0.39202   0.73904  1.20042  0.81627\n",
       "3  -0.90033 -0.08089   0.08742 -1.10026 -0.56421\n",
       "4  -1.35211 -0.06240  -0.68546 -0.01189  1.01046"
      ]
     },
     "execution_count": 11,
     "metadata": {},
     "output_type": "execute_result"
    }
   ],
   "source": [
    "mlofi_df1.head()"
   ]
  },
  {
   "cell_type": "code",
   "execution_count": 12,
   "metadata": {},
   "outputs": [
    {
     "data": {
      "text/html": [
       "<div>\n",
       "<style scoped>\n",
       "    .dataframe tbody tr th:only-of-type {\n",
       "        vertical-align: middle;\n",
       "    }\n",
       "\n",
       "    .dataframe tbody tr th {\n",
       "        vertical-align: top;\n",
       "    }\n",
       "\n",
       "    .dataframe thead th {\n",
       "        text-align: right;\n",
       "    }\n",
       "</style>\n",
       "<table border=\"1\" class=\"dataframe\">\n",
       "  <thead>\n",
       "    <tr style=\"text-align: right;\">\n",
       "      <th></th>\n",
       "      <th>mid_price_diff</th>\n",
       "    </tr>\n",
       "  </thead>\n",
       "  <tbody>\n",
       "    <tr>\n",
       "      <th>0</th>\n",
       "      <td>-3.33</td>\n",
       "    </tr>\n",
       "    <tr>\n",
       "      <th>1</th>\n",
       "      <td>9.96</td>\n",
       "    </tr>\n",
       "    <tr>\n",
       "      <th>2</th>\n",
       "      <td>1.24</td>\n",
       "    </tr>\n",
       "    <tr>\n",
       "      <th>3</th>\n",
       "      <td>-1.24</td>\n",
       "    </tr>\n",
       "    <tr>\n",
       "      <th>4</th>\n",
       "      <td>-4.65</td>\n",
       "    </tr>\n",
       "  </tbody>\n",
       "</table>\n",
       "</div>"
      ],
      "text/plain": [
       "   mid_price_diff\n",
       "0           -3.33\n",
       "1            9.96\n",
       "2            1.24\n",
       "3           -1.24\n",
       "4           -4.65"
      ]
     },
     "execution_count": 12,
     "metadata": {},
     "output_type": "execute_result"
    }
   ],
   "source": [
    "mid_price_diff1.head()"
   ]
  },
  {
   "cell_type": "code",
   "execution_count": 9,
   "metadata": {},
   "outputs": [],
   "source": [
    "mlofi_df2 = pd.read_parquet(\"data/mlofi/mlofi_01\" + str(day+1) + \".parquet\")\n",
    "mid_price_diff2 = pd.read_parquet(\"data/mid_price_diff/mid_price_diff_01\" + str(day+1) + \".parquet\")"
   ]
  },
  {
   "cell_type": "code",
   "execution_count": 10,
   "metadata": {},
   "outputs": [
    {
     "data": {
      "text/plain": [
       "((17151, 5), (17151, 1))"
      ]
     },
     "execution_count": 10,
     "metadata": {},
     "output_type": "execute_result"
    }
   ],
   "source": [
    "mlofi_df2.shape, mid_price_diff2.shape"
   ]
  },
  {
   "cell_type": "code",
   "execution_count": 13,
   "metadata": {},
   "outputs": [
    {
     "data": {
      "text/html": [
       "<div>\n",
       "<style scoped>\n",
       "    .dataframe tbody tr th:only-of-type {\n",
       "        vertical-align: middle;\n",
       "    }\n",
       "\n",
       "    .dataframe tbody tr th {\n",
       "        vertical-align: top;\n",
       "    }\n",
       "\n",
       "    .dataframe thead th {\n",
       "        text-align: right;\n",
       "    }\n",
       "</style>\n",
       "<table border=\"1\" class=\"dataframe\">\n",
       "  <thead>\n",
       "    <tr style=\"text-align: right;\">\n",
       "      <th></th>\n",
       "      <th>mlofi1</th>\n",
       "      <th>mlofi2</th>\n",
       "      <th>mlofi3</th>\n",
       "      <th>mlofi4</th>\n",
       "      <th>mlofi5</th>\n",
       "    </tr>\n",
       "  </thead>\n",
       "  <tbody>\n",
       "    <tr>\n",
       "      <th>0</th>\n",
       "      <td>0.00000</td>\n",
       "      <td>0.00000</td>\n",
       "      <td>0.00000</td>\n",
       "      <td>0.00000</td>\n",
       "      <td>0.00000</td>\n",
       "    </tr>\n",
       "    <tr>\n",
       "      <th>1</th>\n",
       "      <td>0.00000</td>\n",
       "      <td>0.00000</td>\n",
       "      <td>0.49595</td>\n",
       "      <td>0.88347</td>\n",
       "      <td>0.55579</td>\n",
       "    </tr>\n",
       "    <tr>\n",
       "      <th>2</th>\n",
       "      <td>-8.87899</td>\n",
       "      <td>-0.50040</td>\n",
       "      <td>-0.37653</td>\n",
       "      <td>-0.33007</td>\n",
       "      <td>-0.80494</td>\n",
       "    </tr>\n",
       "    <tr>\n",
       "      <th>3</th>\n",
       "      <td>-4.78709</td>\n",
       "      <td>-0.01023</td>\n",
       "      <td>-0.16396</td>\n",
       "      <td>0.98243</td>\n",
       "      <td>-0.88727</td>\n",
       "    </tr>\n",
       "    <tr>\n",
       "      <th>4</th>\n",
       "      <td>36.01460</td>\n",
       "      <td>1.87416</td>\n",
       "      <td>2.38905</td>\n",
       "      <td>2.55124</td>\n",
       "      <td>0.69431</td>\n",
       "    </tr>\n",
       "  </tbody>\n",
       "</table>\n",
       "</div>"
      ],
      "text/plain": [
       "     mlofi1   mlofi2   mlofi3   mlofi4   mlofi5\n",
       "0   0.00000  0.00000  0.00000  0.00000  0.00000\n",
       "1   0.00000  0.00000  0.49595  0.88347  0.55579\n",
       "2  -8.87899 -0.50040 -0.37653 -0.33007 -0.80494\n",
       "3  -4.78709 -0.01023 -0.16396  0.98243 -0.88727\n",
       "4  36.01460  1.87416  2.38905  2.55124  0.69431"
      ]
     },
     "execution_count": 13,
     "metadata": {},
     "output_type": "execute_result"
    }
   ],
   "source": [
    "mlofi_df2.head()"
   ]
  },
  {
   "cell_type": "code",
   "execution_count": 14,
   "metadata": {},
   "outputs": [
    {
     "data": {
      "text/html": [
       "<div>\n",
       "<style scoped>\n",
       "    .dataframe tbody tr th:only-of-type {\n",
       "        vertical-align: middle;\n",
       "    }\n",
       "\n",
       "    .dataframe tbody tr th {\n",
       "        vertical-align: top;\n",
       "    }\n",
       "\n",
       "    .dataframe thead th {\n",
       "        text-align: right;\n",
       "    }\n",
       "</style>\n",
       "<table border=\"1\" class=\"dataframe\">\n",
       "  <thead>\n",
       "    <tr style=\"text-align: right;\">\n",
       "      <th></th>\n",
       "      <th>mid_price_diff</th>\n",
       "    </tr>\n",
       "  </thead>\n",
       "  <tbody>\n",
       "    <tr>\n",
       "      <th>0</th>\n",
       "      <td>0.00</td>\n",
       "    </tr>\n",
       "    <tr>\n",
       "      <th>1</th>\n",
       "      <td>0.00</td>\n",
       "    </tr>\n",
       "    <tr>\n",
       "      <th>2</th>\n",
       "      <td>-13.41</td>\n",
       "    </tr>\n",
       "    <tr>\n",
       "      <th>3</th>\n",
       "      <td>-14.63</td>\n",
       "    </tr>\n",
       "    <tr>\n",
       "      <th>4</th>\n",
       "      <td>-10.48</td>\n",
       "    </tr>\n",
       "  </tbody>\n",
       "</table>\n",
       "</div>"
      ],
      "text/plain": [
       "   mid_price_diff\n",
       "0            0.00\n",
       "1            0.00\n",
       "2          -13.41\n",
       "3          -14.63\n",
       "4          -10.48"
      ]
     },
     "execution_count": 14,
     "metadata": {},
     "output_type": "execute_result"
    }
   ],
   "source": [
    "mid_price_diff2.head()"
   ]
  },
  {
   "cell_type": "code",
   "execution_count": null,
   "metadata": {},
   "outputs": [],
   "source": []
  },
  {
   "cell_type": "markdown",
   "metadata": {},
   "source": [
    "### 2. Test the multicollinearity\n",
    "\n",
    "##### Method 1: Correlation Matrix\n"
   ]
  },
  {
   "cell_type": "code",
   "execution_count": null,
   "metadata": {},
   "outputs": [],
   "source": [
    "correlation_matrix = np.corrcoef(mlofi_df1, rowvar=False)\n",
    "pd.DataFrame(correlation_matrix)    # correlation matrix"
   ]
  },
  {
   "cell_type": "markdown",
   "metadata": {},
   "source": [
    "##### Method 2: Eigenvalues\n"
   ]
  },
  {
   "cell_type": "code",
   "execution_count": null,
   "metadata": {},
   "outputs": [],
   "source": [
    "eigenvalues, eigenvectors = np.linalg.eig(correlation_matrix)\n",
    "sorted_eigenvalues = np.sort(eigenvalues)[::-1]\n",
    "\n",
    "# 画出特征值的折线图\n",
    "plt.plot(range(1, len(sorted_eigenvalues) + 1), sorted_eigenvalues, marker='o', color='r', linestyle='-')\n",
    "plt.xlabel('Number of Eigenvalues')\n",
    "plt.ylabel('Eigenvalue Size')\n",
    "plt.grid(False)\n",
    "plt.show()"
   ]
  },
  {
   "cell_type": "markdown",
   "metadata": {},
   "source": [
    "##### Method 3: VIF (Variance Inflation Factor)\n"
   ]
  },
  {
   "cell_type": "code",
   "execution_count": null,
   "metadata": {},
   "outputs": [],
   "source": [
    "from statsmodels.stats.outliers_influence import variance_inflation_factor\n",
    "vif = pd.DataFrame()\n",
    "vif[\"features\"] = mlofi_df1.columns\n",
    "vif[\"VIF Factor\"] = [variance_inflation_factor(mlofi_df1.values, i) for i in range(mlofi_df1.shape[1])]\n",
    "vif"
   ]
  },
  {
   "cell_type": "code",
   "execution_count": null,
   "metadata": {},
   "outputs": [],
   "source": []
  },
  {
   "cell_type": "markdown",
   "metadata": {},
   "source": [
    "### 3. OLS regression\n"
   ]
  },
  {
   "cell_type": "code",
   "execution_count": null,
   "metadata": {},
   "outputs": [],
   "source": [
    "mid_price_diff1.index = np.arange(mid_price_diff1.shape[0])\n",
    "mlofi_df1.index = np.arange(mlofi_df1.shape[0])"
   ]
  },
  {
   "cell_type": "code",
   "execution_count": null,
   "metadata": {},
   "outputs": [],
   "source": [
    "ols_res = []\n",
    "for M in tqdm(range(5)):\n",
    "    ols_res.append(CalRegreEngine.ols_regre(mid_price_diff1, \n",
    "                                            mlofi_df1.iloc[:, :M+1], \n",
    "                                            lag=100, \n",
    "                                            with_const=False))"
   ]
  },
  {
   "cell_type": "code",
   "execution_count": null,
   "metadata": {},
   "outputs": [],
   "source": [
    "M_ls, rsquared_adj_ls = [], []\n",
    "for j in range(len(ols_res)):\n",
    "    M_ls.append(j+1)\n",
    "    rsquared_adj_ls.append(ols_res[j].rsquared_adj)"
   ]
  },
  {
   "cell_type": "code",
   "execution_count": null,
   "metadata": {},
   "outputs": [],
   "source": [
    "plt.plot(M_ls, rsquared_adj_ls, marker='o', color='r', linestyle='-')"
   ]
  },
  {
   "cell_type": "code",
   "execution_count": null,
   "metadata": {},
   "outputs": [],
   "source": [
    "ols_res[4].summary()"
   ]
  },
  {
   "cell_type": "code",
   "execution_count": null,
   "metadata": {},
   "outputs": [],
   "source": []
  },
  {
   "cell_type": "markdown",
   "metadata": {},
   "source": [
    "### 4. Ridge Regression\n"
   ]
  },
  {
   "cell_type": "code",
   "execution_count": null,
   "metadata": {},
   "outputs": [],
   "source": [
    "best_alpha_train, metrics_train, M_ = [], [], []\n",
    "for M in tqdm(range(1, 6)):\n",
    "    best_alpha, metrics = CalRegreEngine.ridge_regre(mid_price_diff1, \n",
    "                                                      mlofi_df1.iloc[:, :M], \n",
    "                                                      lag=100, alphas=np.linspace(0.01, 1000))\n",
    "    best_alpha_train.append(best_alpha)\n",
    "    metrics_train.append(metrics)\n",
    "    M_.append(M)"
   ]
  },
  {
   "cell_type": "code",
   "execution_count": null,
   "metadata": {},
   "outputs": [],
   "source": [
    "plt.plot(M_, [metrics_train[i][\"adj-r2\"] for i in range(len(metrics_train))], marker='o', color='y', linestyle='-')   # adj-r2 and M"
   ]
  },
  {
   "cell_type": "code",
   "execution_count": null,
   "metadata": {},
   "outputs": [],
   "source": [
    "plt.plot(M_, [metrics_train[i][\"rmse\"] for i in range(len(metrics_train))], marker='o', color='y', linestyle='-')   # adj-r2 and M"
   ]
  },
  {
   "cell_type": "code",
   "execution_count": null,
   "metadata": {},
   "outputs": [],
   "source": [
    "params = {\n",
    "    'M': M_[2],\n",
    "    'alpha': best_alpha_train[2]\n",
    "}"
   ]
  },
  {
   "cell_type": "code",
   "execution_count": null,
   "metadata": {},
   "outputs": [],
   "source": []
  },
  {
   "cell_type": "markdown",
   "metadata": {},
   "source": [
    "##### Examine on test data\n"
   ]
  },
  {
   "cell_type": "code",
   "execution_count": null,
   "metadata": {},
   "outputs": [],
   "source": [
    "alpha_test, metrics_test = CalRegreEngine.ridge_regre(mid_price_diff1, \n",
    "                                        mlofi_df1.iloc[:, :params[\"M\"]], \n",
    "                                        lag=100, \n",
    "                                        alphas=params[\"alpha\"])"
   ]
  },
  {
   "cell_type": "code",
   "execution_count": null,
   "metadata": {},
   "outputs": [],
   "source": [
    "metrics_test"
   ]
  },
  {
   "cell_type": "code",
   "execution_count": null,
   "metadata": {},
   "outputs": [],
   "source": []
  }
 ],
 "metadata": {
  "kernelspec": {
   "display_name": "conda_python3",
   "language": "python",
   "name": "conda_python3"
  },
  "language_info": {
   "codemirror_mode": {
    "name": "ipython",
    "version": 3
   },
   "file_extension": ".py",
   "mimetype": "text/x-python",
   "name": "python",
   "nbconvert_exporter": "python",
   "pygments_lexer": "ipython3",
   "version": "3.10.13"
  }
 },
 "nbformat": 4,
 "nbformat_minor": 4
}
