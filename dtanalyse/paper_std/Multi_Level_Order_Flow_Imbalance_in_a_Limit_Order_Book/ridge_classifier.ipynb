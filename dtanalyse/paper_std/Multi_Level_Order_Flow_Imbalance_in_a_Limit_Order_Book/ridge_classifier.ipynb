{
 "cells": [
  {
   "cell_type": "code",
   "execution_count": 1,
   "metadata": {},
   "outputs": [],
   "source": [
    "import pandas as pd\n",
    "import numpy as np\n",
    "from matplotlib import pyplot as plt\n",
    "import statsmodels.api as sm\n",
    "from tqdm import tqdm"
   ]
  },
  {
   "cell_type": "code",
   "execution_count": 2,
   "metadata": {},
   "outputs": [],
   "source": [
    "from cal_regre_engine import CalRegreEngine"
   ]
  },
  {
   "cell_type": "code",
   "execution_count": 3,
   "metadata": {},
   "outputs": [],
   "source": [
    "import warnings\n",
    "warnings.filterwarnings(\"ignore\")"
   ]
  },
  {
   "cell_type": "code",
   "execution_count": null,
   "metadata": {},
   "outputs": [],
   "source": []
  },
  {
   "cell_type": "code",
   "execution_count": 4,
   "metadata": {},
   "outputs": [],
   "source": [
    "window_len = 50"
   ]
  },
  {
   "cell_type": "code",
   "execution_count": 5,
   "metadata": {},
   "outputs": [],
   "source": [
    "mlofi_df1, mid_price_diff1 = pd.DataFrame(), pd.DataFrame()\n",
    "mlofi_df2, mid_price_diff2 = pd.DataFrame(), pd.DataFrame()\n",
    "for day1 in [24, 25, 26, 27, 28]:\n",
    "    mlofi1 = pd.read_parquet(\"data/mlofi/mlofi_01\" + str(day1) + \".parquet\")\n",
    "    diff1 = pd.read_parquet(\"data/mid_price_diff/mid_price_diff_01\" + str(day1) + \".parquet\")\n",
    "    mlofi_df1 = pd.concat([mlofi_df1, mlofi1], axis=0)\n",
    "    mid_price_diff1 = pd.concat([mid_price_diff1, diff1], axis=0)\n",
    "    \n",
    "for day2 in [29, 30]:\n",
    "    mlofi2 = pd.read_parquet(\"data/mlofi/mlofi_01\" + str(day2) + \".parquet\")\n",
    "    diff2 = pd.read_parquet(\"data/mid_price_diff/mid_price_diff_01\" + str(day2) + \".parquet\")\n",
    "    mlofi_df2 = pd.concat([mlofi_df2, mlofi2], axis=0)\n",
    "    mid_price_diff2 = pd.concat([mid_price_diff2, diff2], axis=0)"
   ]
  },
  {
   "cell_type": "code",
   "execution_count": 6,
   "metadata": {},
   "outputs": [],
   "source": [
    "mlofi_df1.index = np.arange(mlofi_df1.shape[0])\n",
    "mlofi_df2.index = np.arange(mlofi_df2.shape[0])\n",
    "mid_price_diff1.index = np.arange(mid_price_diff1.shape[0])\n",
    "mid_price_diff2.index = np.arange(mid_price_diff2.shape[0])"
   ]
  },
  {
   "cell_type": "code",
   "execution_count": 7,
   "metadata": {},
   "outputs": [
    {
     "data": {
      "text/plain": [
       "((85477, 5), (85477, 1))"
      ]
     },
     "execution_count": 7,
     "metadata": {},
     "output_type": "execute_result"
    }
   ],
   "source": [
    "mlofi_df1.shape, mid_price_diff1.shape"
   ]
  },
  {
   "cell_type": "code",
   "execution_count": 8,
   "metadata": {},
   "outputs": [
    {
     "data": {
      "text/plain": [
       "((34302, 5), (34302, 1))"
      ]
     },
     "execution_count": 8,
     "metadata": {},
     "output_type": "execute_result"
    }
   ],
   "source": [
    "mlofi_df2.shape, mid_price_diff2.shape"
   ]
  },
  {
   "cell_type": "code",
   "execution_count": null,
   "metadata": {},
   "outputs": [],
   "source": []
  },
  {
   "cell_type": "markdown",
   "metadata": {},
   "source": [
    "## Data Description\n"
   ]
  },
  {
   "cell_type": "code",
   "execution_count": 9,
   "metadata": {},
   "outputs": [
    {
     "data": {
      "text/html": [
       "<div>\n",
       "<style scoped>\n",
       "    .dataframe tbody tr th:only-of-type {\n",
       "        vertical-align: middle;\n",
       "    }\n",
       "\n",
       "    .dataframe tbody tr th {\n",
       "        vertical-align: top;\n",
       "    }\n",
       "\n",
       "    .dataframe thead th {\n",
       "        text-align: right;\n",
       "    }\n",
       "</style>\n",
       "<table border=\"1\" class=\"dataframe\">\n",
       "  <thead>\n",
       "    <tr style=\"text-align: right;\">\n",
       "      <th></th>\n",
       "      <th>mid_price_diff</th>\n",
       "    </tr>\n",
       "  </thead>\n",
       "  <tbody>\n",
       "    <tr>\n",
       "      <th>count</th>\n",
       "      <td>85477.000000</td>\n",
       "    </tr>\n",
       "    <tr>\n",
       "      <th>mean</th>\n",
       "      <td>0.035807</td>\n",
       "    </tr>\n",
       "    <tr>\n",
       "      <th>std</th>\n",
       "      <td>5.551645</td>\n",
       "    </tr>\n",
       "    <tr>\n",
       "      <th>min</th>\n",
       "      <td>-120.360000</td>\n",
       "    </tr>\n",
       "    <tr>\n",
       "      <th>25%</th>\n",
       "      <td>0.000000</td>\n",
       "    </tr>\n",
       "    <tr>\n",
       "      <th>50%</th>\n",
       "      <td>0.000000</td>\n",
       "    </tr>\n",
       "    <tr>\n",
       "      <th>75%</th>\n",
       "      <td>0.000000</td>\n",
       "    </tr>\n",
       "    <tr>\n",
       "      <th>max</th>\n",
       "      <td>159.620000</td>\n",
       "    </tr>\n",
       "  </tbody>\n",
       "</table>\n",
       "</div>"
      ],
      "text/plain": [
       "       mid_price_diff\n",
       "count    85477.000000\n",
       "mean         0.035807\n",
       "std          5.551645\n",
       "min       -120.360000\n",
       "25%          0.000000\n",
       "50%          0.000000\n",
       "75%          0.000000\n",
       "max        159.620000"
      ]
     },
     "execution_count": 9,
     "metadata": {},
     "output_type": "execute_result"
    }
   ],
   "source": [
    "mid_price_diff1.describe()"
   ]
  },
  {
   "cell_type": "code",
   "execution_count": 10,
   "metadata": {},
   "outputs": [
    {
     "data": {
      "text/plain": [
       "(mid_price_diff    0.033073\n",
       " dtype: float64,\n",
       " mid_price_diff    0.035132\n",
       " dtype: float64)"
      ]
     },
     "execution_count": 10,
     "metadata": {},
     "output_type": "execute_result"
    }
   ],
   "source": [
    "(mid_price_diff1 < -10).sum() / mid_price_diff1.shape[0], (mid_price_diff1 > 10).sum() / mid_price_diff1.shape[0]"
   ]
  },
  {
   "cell_type": "code",
   "execution_count": 11,
   "metadata": {},
   "outputs": [
    {
     "data": {
      "text/html": [
       "<div>\n",
       "<style scoped>\n",
       "    .dataframe tbody tr th:only-of-type {\n",
       "        vertical-align: middle;\n",
       "    }\n",
       "\n",
       "    .dataframe tbody tr th {\n",
       "        vertical-align: top;\n",
       "    }\n",
       "\n",
       "    .dataframe thead th {\n",
       "        text-align: right;\n",
       "    }\n",
       "</style>\n",
       "<table border=\"1\" class=\"dataframe\">\n",
       "  <thead>\n",
       "    <tr style=\"text-align: right;\">\n",
       "      <th></th>\n",
       "      <th>mid_price_diff</th>\n",
       "    </tr>\n",
       "  </thead>\n",
       "  <tbody>\n",
       "    <tr>\n",
       "      <th>count</th>\n",
       "      <td>34302.000000</td>\n",
       "    </tr>\n",
       "    <tr>\n",
       "      <th>mean</th>\n",
       "      <td>0.012902</td>\n",
       "    </tr>\n",
       "    <tr>\n",
       "      <th>std</th>\n",
       "      <td>6.014275</td>\n",
       "    </tr>\n",
       "    <tr>\n",
       "      <th>min</th>\n",
       "      <td>-50.420000</td>\n",
       "    </tr>\n",
       "    <tr>\n",
       "      <th>25%</th>\n",
       "      <td>0.000000</td>\n",
       "    </tr>\n",
       "    <tr>\n",
       "      <th>50%</th>\n",
       "      <td>0.000000</td>\n",
       "    </tr>\n",
       "    <tr>\n",
       "      <th>75%</th>\n",
       "      <td>0.000000</td>\n",
       "    </tr>\n",
       "    <tr>\n",
       "      <th>max</th>\n",
       "      <td>101.980000</td>\n",
       "    </tr>\n",
       "  </tbody>\n",
       "</table>\n",
       "</div>"
      ],
      "text/plain": [
       "       mid_price_diff\n",
       "count    34302.000000\n",
       "mean         0.012902\n",
       "std          6.014275\n",
       "min        -50.420000\n",
       "25%          0.000000\n",
       "50%          0.000000\n",
       "75%          0.000000\n",
       "max        101.980000"
      ]
     },
     "execution_count": 11,
     "metadata": {},
     "output_type": "execute_result"
    }
   ],
   "source": [
    "mid_price_diff2.describe()"
   ]
  },
  {
   "cell_type": "code",
   "execution_count": 12,
   "metadata": {},
   "outputs": [
    {
     "data": {
      "text/plain": [
       "(mid_price_diff    0.039531\n",
       " dtype: float64,\n",
       " mid_price_diff    0.041689\n",
       " dtype: float64)"
      ]
     },
     "execution_count": 12,
     "metadata": {},
     "output_type": "execute_result"
    }
   ],
   "source": [
    "(mid_price_diff2 < -10).sum() / mid_price_diff2.shape[0], (mid_price_diff2 > 10).sum() / mid_price_diff2.shape[0]"
   ]
  },
  {
   "cell_type": "code",
   "execution_count": null,
   "metadata": {},
   "outputs": [],
   "source": []
  },
  {
   "cell_type": "code",
   "execution_count": null,
   "metadata": {},
   "outputs": [],
   "source": []
  },
  {
   "cell_type": "markdown",
   "metadata": {},
   "source": [
    "## Ridge Classifier\n"
   ]
  },
  {
   "cell_type": "code",
   "execution_count": 13,
   "metadata": {},
   "outputs": [],
   "source": [
    "first_bar, second_bar = 10, 5"
   ]
  },
  {
   "cell_type": "code",
   "execution_count": 14,
   "metadata": {},
   "outputs": [],
   "source": [
    "best_alpha_r1, ridge_r1, metrics_r1 = CalRegreEngine.ridge_classifier_train(mid_price_diff=mid_price_diff1, \n",
    "                                                            mlofi=mlofi_df1, \n",
    "                                                            first_bar=first_bar, \n",
    "                                                            second_bar=second_bar, \n",
    "                                                            lag=100, balance=True)"
   ]
  },
  {
   "cell_type": "code",
   "execution_count": 15,
   "metadata": {},
   "outputs": [
    {
     "data": {
      "text/html": [
       "<div>\n",
       "<style scoped>\n",
       "    .dataframe tbody tr th:only-of-type {\n",
       "        vertical-align: middle;\n",
       "    }\n",
       "\n",
       "    .dataframe tbody tr th {\n",
       "        vertical-align: top;\n",
       "    }\n",
       "\n",
       "    .dataframe thead th {\n",
       "        text-align: right;\n",
       "    }\n",
       "</style>\n",
       "<table border=\"1\" class=\"dataframe\">\n",
       "  <thead>\n",
       "    <tr style=\"text-align: right;\">\n",
       "      <th></th>\n",
       "      <th>-1.0</th>\n",
       "      <th>0.0</th>\n",
       "      <th>1.0</th>\n",
       "      <th>accuracy</th>\n",
       "      <th>macro avg</th>\n",
       "      <th>weighted avg</th>\n",
       "    </tr>\n",
       "  </thead>\n",
       "  <tbody>\n",
       "    <tr>\n",
       "      <th>precision</th>\n",
       "      <td>0.282051</td>\n",
       "      <td>0.365609</td>\n",
       "      <td>0.356077</td>\n",
       "      <td>0.359312</td>\n",
       "      <td>0.334579</td>\n",
       "      <td>0.334763</td>\n",
       "    </tr>\n",
       "    <tr>\n",
       "      <th>recall</th>\n",
       "      <td>0.038128</td>\n",
       "      <td>0.756477</td>\n",
       "      <td>0.283531</td>\n",
       "      <td>0.359312</td>\n",
       "      <td>0.359379</td>\n",
       "      <td>0.359312</td>\n",
       "    </tr>\n",
       "    <tr>\n",
       "      <th>f1-score</th>\n",
       "      <td>0.067176</td>\n",
       "      <td>0.492966</td>\n",
       "      <td>0.315690</td>\n",
       "      <td>0.359312</td>\n",
       "      <td>0.291944</td>\n",
       "      <td>0.292337</td>\n",
       "    </tr>\n",
       "    <tr>\n",
       "      <th>support</th>\n",
       "      <td>577.000000</td>\n",
       "      <td>579.000000</td>\n",
       "      <td>589.000000</td>\n",
       "      <td>0.359312</td>\n",
       "      <td>1745.000000</td>\n",
       "      <td>1745.000000</td>\n",
       "    </tr>\n",
       "  </tbody>\n",
       "</table>\n",
       "</div>"
      ],
      "text/plain": [
       "                 -1.0         0.0         1.0  accuracy    macro avg  \\\n",
       "precision    0.282051    0.365609    0.356077  0.359312     0.334579   \n",
       "recall       0.038128    0.756477    0.283531  0.359312     0.359379   \n",
       "f1-score     0.067176    0.492966    0.315690  0.359312     0.291944   \n",
       "support    577.000000  579.000000  589.000000  0.359312  1745.000000   \n",
       "\n",
       "           weighted avg  \n",
       "precision      0.334763  \n",
       "recall         0.359312  \n",
       "f1-score       0.292337  \n",
       "support     1745.000000  "
      ]
     },
     "execution_count": 15,
     "metadata": {},
     "output_type": "execute_result"
    }
   ],
   "source": [
    "pd.DataFrame(metrics_r1[\"report\"])"
   ]
  },
  {
   "cell_type": "code",
   "execution_count": null,
   "metadata": {},
   "outputs": [],
   "source": []
  },
  {
   "cell_type": "code",
   "execution_count": 16,
   "metadata": {},
   "outputs": [],
   "source": [
    "metrics_r2, y_pred, y_test = CalRegreEngine.ridge_classifier_test(mid_price_diff=mid_price_diff2, \n",
    "                                                  mlofi=mlofi_df2, \n",
    "                                                  first_bar=first_bar, \n",
    "                                                  second_bar=second_bar, \n",
    "                                                  ridge=ridge_r1, \n",
    "                                                  lag=100)"
   ]
  },
  {
   "cell_type": "code",
   "execution_count": 17,
   "metadata": {},
   "outputs": [
    {
     "data": {
      "text/html": [
       "<div>\n",
       "<style scoped>\n",
       "    .dataframe tbody tr th:only-of-type {\n",
       "        vertical-align: middle;\n",
       "    }\n",
       "\n",
       "    .dataframe tbody tr th {\n",
       "        vertical-align: top;\n",
       "    }\n",
       "\n",
       "    .dataframe thead th {\n",
       "        text-align: right;\n",
       "    }\n",
       "</style>\n",
       "<table border=\"1\" class=\"dataframe\">\n",
       "  <thead>\n",
       "    <tr style=\"text-align: right;\">\n",
       "      <th></th>\n",
       "      <th>-1.0</th>\n",
       "      <th>0.0</th>\n",
       "      <th>1.0</th>\n",
       "      <th>accuracy</th>\n",
       "      <th>macro avg</th>\n",
       "      <th>weighted avg</th>\n",
       "    </tr>\n",
       "  </thead>\n",
       "  <tbody>\n",
       "    <tr>\n",
       "      <th>precision</th>\n",
       "      <td>0.044791</td>\n",
       "      <td>0.927926</td>\n",
       "      <td>0.056746</td>\n",
       "      <td>0.721858</td>\n",
       "      <td>0.343154</td>\n",
       "      <td>0.857541</td>\n",
       "    </tr>\n",
       "    <tr>\n",
       "      <th>recall</th>\n",
       "      <td>0.034535</td>\n",
       "      <td>0.770671</td>\n",
       "      <td>0.283086</td>\n",
       "      <td>0.721858</td>\n",
       "      <td>0.362764</td>\n",
       "      <td>0.721858</td>\n",
       "    </tr>\n",
       "    <tr>\n",
       "      <th>f1-score</th>\n",
       "      <td>0.039000</td>\n",
       "      <td>0.842019</td>\n",
       "      <td>0.094540</td>\n",
       "      <td>0.721858</td>\n",
       "      <td>0.325186</td>\n",
       "      <td>0.779865</td>\n",
       "    </tr>\n",
       "    <tr>\n",
       "      <th>support</th>\n",
       "      <td>1332.000000</td>\n",
       "      <td>31457.000000</td>\n",
       "      <td>1413.000000</td>\n",
       "      <td>0.721858</td>\n",
       "      <td>34202.000000</td>\n",
       "      <td>34202.000000</td>\n",
       "    </tr>\n",
       "  </tbody>\n",
       "</table>\n",
       "</div>"
      ],
      "text/plain": [
       "                  -1.0           0.0          1.0  accuracy     macro avg  \\\n",
       "precision     0.044791      0.927926     0.056746  0.721858      0.343154   \n",
       "recall        0.034535      0.770671     0.283086  0.721858      0.362764   \n",
       "f1-score      0.039000      0.842019     0.094540  0.721858      0.325186   \n",
       "support    1332.000000  31457.000000  1413.000000  0.721858  34202.000000   \n",
       "\n",
       "           weighted avg  \n",
       "precision      0.857541  \n",
       "recall         0.721858  \n",
       "f1-score       0.779865  \n",
       "support    34202.000000  "
      ]
     },
     "execution_count": 17,
     "metadata": {},
     "output_type": "execute_result"
    }
   ],
   "source": [
    "pd.DataFrame(metrics_r2[\"report\"])"
   ]
  },
  {
   "cell_type": "code",
   "execution_count": 18,
   "metadata": {},
   "outputs": [],
   "source": [
    "test_pred_df = pd.DataFrame({\"y_pred\": y_pred.astype(int).tolist(), \"y_test\": y_test.tolist()})"
   ]
  },
  {
   "cell_type": "code",
   "execution_count": null,
   "metadata": {},
   "outputs": [],
   "source": []
  },
  {
   "cell_type": "markdown",
   "metadata": {},
   "source": [
    "### Labelling rules\n",
    "e.g.    y_test=-1. y_pred=1 -> \"-1_to_1\"\n"
   ]
  },
  {
   "cell_type": "code",
   "execution_count": 28,
   "metadata": {},
   "outputs": [],
   "source": [
    "test_pred_df[\"label\"] = np.zeros((test_pred_df.shape[0], 1))"
   ]
  },
  {
   "cell_type": "code",
   "execution_count": 29,
   "metadata": {},
   "outputs": [
    {
     "name": "stderr",
     "output_type": "stream",
     "text": [
      "100%|██████████| 34202/34202 [00:05<00:00, 6376.55it/s]\n"
     ]
    }
   ],
   "source": [
    "for i in tqdm(range(test_pred_df.shape[0])):\n",
    "    if test_pred_df[\"y_pred\"].iloc[i] == -1 and test_pred_df[\"y_test\"].iloc[i] == -1:\n",
    "        test_pred_df[\"label\"].iloc[i] = \"-1_to_-1\"\n",
    "    elif test_pred_df[\"y_pred\"].iloc[i] == -1 and test_pred_df[\"y_test\"].iloc[i] == 0:\n",
    "        test_pred_df[\"label\"].iloc[i] = \"-1_to_0\"\n",
    "    elif test_pred_df[\"y_pred\"].iloc[i] == -1 and test_pred_df[\"y_test\"].iloc[i] == 1:\n",
    "        test_pred_df[\"label\"].iloc[i] = \"-1_to_1\"\n",
    "    elif test_pred_df[\"y_pred\"].iloc[i] == 0 and test_pred_df[\"y_test\"].iloc[i] == -1:\n",
    "        test_pred_df[\"label\"].iloc[i] = \"0_to_-1\"\n",
    "    elif test_pred_df[\"y_pred\"].iloc[i] == 0 and test_pred_df[\"y_test\"].iloc[i] == 0:\n",
    "        test_pred_df[\"label\"].iloc[i] = \"0_to_0\"\n",
    "    elif test_pred_df[\"y_pred\"].iloc[i] == 0 and test_pred_df[\"y_test\"].iloc[i] == 1:\n",
    "        test_pred_df[\"label\"].iloc[i] = \"0_to_1\"\n",
    "    elif test_pred_df[\"y_pred\"].iloc[i] == 1 and test_pred_df[\"y_test\"].iloc[i] == -1:\n",
    "        test_pred_df[\"label\"].iloc[i] = \"1_to_-1\"\n",
    "    elif test_pred_df[\"y_pred\"].iloc[i] == 1 and test_pred_df[\"y_test\"].iloc[i] == 0:\n",
    "        test_pred_df[\"label\"].iloc[i] = \"1_to_0\"\n",
    "    elif test_pred_df[\"y_pred\"].iloc[i] == 1 and test_pred_df[\"y_test\"].iloc[i] == 1:\n",
    "        test_pred_df[\"label\"].iloc[i] = \"1_to_1\""
   ]
  },
  {
   "cell_type": "code",
   "execution_count": 30,
   "metadata": {},
   "outputs": [
    {
     "data": {
      "text/plain": [
       "label\n",
       "0_to_0      24243\n",
       "1_to_0       6283\n",
       "0_to_1        963\n",
       "-1_to_0       931\n",
       "0_to_-1       920\n",
       "1_to_1        400\n",
       "1_to_-1       366\n",
       "-1_to_1        50\n",
       "-1_to_-1       46\n",
       "Name: count, dtype: int64"
      ]
     },
     "execution_count": 30,
     "metadata": {},
     "output_type": "execute_result"
    }
   ],
   "source": [
    "test_pred_df[\"label\"].value_counts()"
   ]
  },
  {
   "cell_type": "code",
   "execution_count": null,
   "metadata": {},
   "outputs": [],
   "source": []
  }
 ],
 "metadata": {
  "kernelspec": {
   "display_name": "conda_python3",
   "language": "python",
   "name": "conda_python3"
  },
  "language_info": {
   "codemirror_mode": {
    "name": "ipython",
    "version": 3
   },
   "file_extension": ".py",
   "mimetype": "text/x-python",
   "name": "python",
   "nbconvert_exporter": "python",
   "pygments_lexer": "ipython3",
   "version": "3.10.13"
  }
 },
 "nbformat": 4,
 "nbformat_minor": 4
}
