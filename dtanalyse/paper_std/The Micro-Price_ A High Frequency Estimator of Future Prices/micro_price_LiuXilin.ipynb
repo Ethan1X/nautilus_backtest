{
 "cells": [
  {
   "cell_type": "markdown",
   "id": "7c1c3fc1",
   "metadata": {},
   "source": [
    "## Finite state space example\n",
    "\n",
    "现在在我们已知 $(M_t, I_t, S_t)$, 要估计fair price。为了对离散过程进行建模同时减少计算量，我们进行以下处理：\n",
    "\n",
    "1. 我们把 $I_t$ 分为 n 段，每一段的表示为如下公式。比如说[1，2，3，4，5]分别表示imbalance程度为[0-0.2, 0.2-0.4, 0.4-0.6, 0.6-0.8, 0.8-1.0]：\n",
    "$$\n",
    "I_t=\\sum_{j=1}^nj\\mathbb{1}_{\\left(\\frac{j-1}{n}<\\frac{Q_t^b}{Q_t^b+Q_t^a}\\leq\\frac{j}{n}\\right)}\n",
    "$$\n",
    "\n",
    "2. 同时 spread 的值为离散值，服从 1<= s <= m\n",
    "\n",
    "所以状态 $(I_t, S_t)$ 为离散值，且取值有 nm 个。\n",
    "\n",
    "3. 我们使用$K=\\begin{bmatrix}-0.01,-0.005,0.005,0.01\\end{bmatrix}^T$来表示 mid-price 的变动，（或者取值为 -1个tick，-0.5个tick， 0.5个tick， 1个tick）\n",
    "\n",
    "则对于下一个时刻的 mid-price 的变动来说，服从以下的公式：\n",
    "\n",
    "$$\\begin{aligned}\n",
    "G^{1}(x)& =\\mathbb{E}\\left[M_{\\tau_{1}}-M_{t}|X_{t}=x\\right]  \\\\\n",
    "&= \\sum_{k\\in K}k\\cdot\\mathbb{P}(M_{\\tau_{1}}-M_{t}=k|X_{t}=x)  \\\\\n",
    "&=\\sum_{k\\in K}\\sum_{u}k\\cdot\\mathbb{P}(M_{\\tau_{1}}-M_{t}=k\\wedge\\tau_{1}-t=u|X_{t}=x)\n",
    "\\end{aligned}$$\n",
    "\n",
    "我们估计两种状态：\n",
    "1. R := absorbing states, 可以理解为在给定 $(I_t, S_t)$ 下，mid-price发生改变k的概率，其中k是上文中定义的K的取值。所以矩阵的维度是 4 x nm\n",
    "$$R_{xk}:=\\mathbb{P}(M_{t+1}-M_t=k|X_t=x)$$\n",
    "\n",
    "\n",
    "2. Q :=  transient states, 可以理解为在给定 $x = (I_t, S_t)$ 下，mid-price 不发生改变且下一个状态是新的$y = (I_t, S_t)$ 的概率。所以矩阵的维度是 nm x nm\n",
    "$$Q_{xy}:=\\mathbb{P}(M_{t+1}-M_t=0\\wedge X_{t+1}=y|X_t=x)$$\n",
    "\n",
    "所以下一个时刻，mid-price 发生改变的期望是：\n",
    "$$G^1(x)=\\bigl(\\sum_sQ^{s-1}R\\bigr)K=\\bigl(1-Q\\bigr)^{-1}RK$$\n",
    "\n",
    "通过递归我们就可以算出来$G^{i+1}(x)$\n",
    "\n",
    "\n",
    "### 最终公式\n",
    "\n",
    "为了方便计算，我们重新定义 absorbing states T, 新的矩阵维度是 nm x nm:\n",
    "$$T_{xy}:=\\mathbb{P}(M_{t+1}-M_t\\neq0\\wedge X_{t+1}=y|X_t=x)$$\n",
    "\n",
    "定义$B:=\\left(1-Q\\right)^{-1}T$， B 显然是一个 nm x nm 的矩阵。则最终的价格为：\n",
    "$$P_t^i=M_t+\\sum_{k=0}^iB^kG^1$$\n",
    "\n",
    "THEOREM $3.1\\quad If\\:B^*=\\lim_{k\\to\\infty}B^k\\:and\\:B^*G^1=0,\\:then\\:the\\:limit$\n",
    "$\\lim_{i\\to\\infty}P_{t}^{i}=P_{t}^{micro}$\n",
    "$converges.$\n",
    "\n",
    "The matrix $B$ is a regular stochastic matrix so it can be decomposed\n",
    "\n",
    "$$\n",
    "B=B^*+\\sum_{j=2}^{nm}\\lambda_jB_j\n",
    "$$\n",
    "\n",
    "所以最终的公式为：\n",
    "\n",
    "$$P_t^{micro}=\\lim\\limits_{i\\to\\infty}P_t^i=M_t+G^1+\\sum\\limits_{j=2}^{nm}\\frac{\\lambda_j}{1-\\lambda_j}B_jG^1$$\n",
    "\n"
   ]
  },
  {
   "cell_type": "markdown",
   "id": "069b22a3",
   "metadata": {},
   "source": [
    "# 计算步骤\n",
    "1. symmetrize data\n",
    "    - (It,St,It+1,St+1,dM) ==> (1-It,St,1-It+1,St+1,-dM)\n",
    "2. Estimate Q, T, R\n",
    "3. Calculate G1\n",
    "4. Calculate G* ==> micro price adjustment \n"
   ]
  },
  {
   "cell_type": "code",
   "execution_count": 1,
   "id": "f69050cb",
   "metadata": {},
   "outputs": [
    {
     "name": "stdout",
     "output_type": "stream",
     "text": [
      "Collecting package metadata (current_repodata.json): done\n",
      "Solving environment: done\n",
      "\n",
      "\n",
      "==> WARNING: A newer version of conda exists. <==\n",
      "  current version: 23.3.1\n",
      "  latest version: 24.3.0\n",
      "\n",
      "Please update conda by running\n",
      "\n",
      "    $ conda update -n base -c conda-forge conda\n",
      "\n",
      "Or to minimize the number of packages updated during conda update use\n",
      "\n",
      "     conda install conda=24.3.0\n",
      "\n",
      "\n",
      "\n",
      "# All requested packages already installed.\n",
      "\n"
     ]
    }
   ],
   "source": [
    "# 这个库可以显著地加速运算\n",
    "!conda install scikit-learn-intelex -y"
   ]
  },
  {
   "cell_type": "code",
   "execution_count": 2,
   "id": "ffb10362",
   "metadata": {},
   "outputs": [],
   "source": [
    "import os, sys, datetime, logging\n",
    "import plotly.graph_objs as go\n",
    "from plotly.subplots import make_subplots\n",
    "import pandas as pd\n",
    "import plotly.express as px\n",
    "from datetime import timedelta\n",
    "import joblib\n",
    "\n",
    "if '../' not in sys.path:\n",
    "    sys.path.append('../')\n",
    "if 'load_s3/' not in sys.path:\n",
    "    sys.path.append('load_s3/')\n",
    "    \n",
    "import import_ipynb\n",
    "from util.s3_method import * \n",
    "from util.time_method import *\n",
    "from util.plot_method import easy_plot,timeline_sample_kv, get_plot_diff_data\n",
    "from util.hedge_log import initlog\n",
    "from util.recover_depth import recoveryDepth\n",
    "from util.statistic_method_v2 import describe_series\n",
    "from load_s3_data import *\n",
    "\n",
    "def get_highest_frequency_data(begin_time, end_time, exchange, symbol, plot_interval_us=None, is_adj_time=True):\n",
    "    '''\n",
    "    根据交易所特性获取最高频的orderbook数据\n",
    "    比如说 binance 为tick， OKEX为depth\n",
    "    '''\n",
    "        \n",
    "    if exchange =='okex':\n",
    "        highest_LOB = LoadS3Data.get_cex_depth(begin_time, end_time, exchange, symbol)\n",
    "        depth_all = []\n",
    "        for i in highest_LOB:\n",
    "            bids = i['bids']\n",
    "            asks = i['asks']\n",
    "            time = i['time']\n",
    "            depth_all.append([time]+[ i['p'] for i in bids ]+[ i['s'] for i in bids ]+[ i['p'] for i in asks ]+[ i['s'] for i in asks ])\n",
    "            #break\n",
    "        highest_LOB = pd.DataFrame(depth_all,columns=['time','bid1','bid2','bid3','bid4','bid5','bidqty1','bidqty2','bidqty3','bidqty4','bidqty5',\n",
    "                                        'ask1','ask2','ask3','ask4','ask5','askqty1','askqty2','askqty3','askqty4','askqty5'])\n",
    "        highest_LOB = highest_LOB[['time','bid1','bidqty1','ask1','askqty1']]\n",
    "    #if exchange =='binance':\n",
    "    else:\n",
    "        highest_LOB = LoadS3Data.get_cex_ticker(begin_time, end_time,symbol,exchange,plot_interval_us=plot_interval_us, is_adj_time=is_adj_time)\n",
    "        highest_LOB = pd.DataFrame(highest_LOB).rename(columns={'tp':'time','ap':'ask1','aa':'askqty1','bp':'bid1','ba':'bidqty1'})\n",
    "        highest_LOB = highest_LOB[['time','ask1','askqty1','bid1','bidqty1']]\n",
    "    return highest_LOB.rename(columns = {'bidqty1':'bid1_qty','askqty1':'ask1_qty'})\n",
    "\n",
    "\n",
    "# load libraries \n",
    "import math\n",
    "import decimal \n",
    "import numpy as np \n",
    "import pandas as pd\n",
    "import matplotlib.pyplot as plt\n",
    "from IPython.core.interactiveshell import InteractiveShell\n",
    "InteractiveShell.ast_node_interactivity = \"all\"\n",
    "\n",
    "from scipy.linalg import block_diag\n",
    "from scipy.linalg import eig\n",
    "\n",
    "from StoikovEstimator import processing_data, estimate_transi_prob, f_cal_G6, get_default_K, estimate_old"
   ]
  },
  {
   "cell_type": "code",
   "execution_count": 3,
   "id": "f273302c",
   "metadata": {},
   "outputs": [],
   "source": [
    "exchange = 'binance'\n",
    "symbol=\"eth_usdt\"\n",
    "begin_time = datetime.datetime(2024, 3, 10, 0, tzinfo=TZ_8)\n",
    "end_time = begin_time + datetime.timedelta(days=1)\n",
    "\n",
    "df_data = get_highest_frequency_data(begin_time, end_time, exchange, symbol, plot_interval_us=None, is_adj_time=True)"
   ]
  },
  {
   "cell_type": "code",
   "execution_count": 4,
   "id": "60a59594",
   "metadata": {},
   "outputs": [
    {
     "name": "stdout",
     "output_type": "stream",
     "text": [
      "K is [-0.01  -0.005  0.005  0.01 ]\n"
     ]
    }
   ],
   "source": [
    "# load data\n",
    "# df_data = pd.read_parquet('../Data/20240310/eth_usdt_binance_LOB.parquet')\n",
    "df_data.columns = ['time_seconds', 'ask_price', 'ask_size', 'bid_price', 'bid_size']\n",
    "# df_data['time_seconds'] = ((df_data.time_seconds)/1000 +1).astype(int)\n",
    "# df_data = df_data.drop_duplicates(subset=['time_seconds'],keep='last').reset_index(drop=True)\n",
    "\n",
    "test_percentage = 0.4\n",
    "df_data_test = df_data.iloc[-int(test_percentage*len(df_data.time_seconds)):,].reset_index(drop=True)\n",
    "df_data = df_data.iloc[:-len(df_data_test),].reset_index(drop=True)\n",
    "\n",
    "\n",
    "# hyper-parameter\n",
    "# number of imbalance \n",
    "n_imb = 11\n",
    "# number of spread \n",
    "n_spread = 2\n",
    "# delta t \n",
    "dt = 10\n",
    "\n",
    "# grid of mid price change [half tick, one tick]\n",
    "# K = np.array([-0.00001, -0.000005, 0.000005, 0.00001])\n",
    "K = get_default_K(df_data)\n",
    "print(\"K is\", K)"
   ]
  },
  {
   "cell_type": "markdown",
   "id": "86083e7f",
   "metadata": {},
   "source": [
    "### 使用过去的数据估计参数"
   ]
  },
  {
   "cell_type": "code",
   "execution_count": 5,
   "id": "969fbd37",
   "metadata": {},
   "outputs": [
    {
     "name": "stdout",
     "output_type": "stream",
     "text": [
      "tick_size is 0.01\n"
     ]
    }
   ],
   "source": [
    "# processing data \n",
    "df_data_to_use = processing_data(df_data, n_imb, n_spread, dt)\n",
    "\n",
    "# estimation of transition probabiliies\n",
    "G1,B,Q,Q2,R1,R2 = estimate_transi_prob(df_data_to_use, K, n_imb, n_spread)\n",
    "\n",
    "# calculate micro price \n",
    "G6 = f_cal_G6(G1, B)\n",
    "df_data_to_use"
   ]
  },
  {
   "cell_type": "code",
   "execution_count": 6,
   "id": "2aaea492",
   "metadata": {},
   "outputs": [],
   "source": [
    "# plot \n",
    "imb=np.linspace(0,1,n_imb)\n",
    "plt.figure(figsize=(13, 6), dpi=80)\n",
    "for i in range(0,n_spread):\n",
    "    plt.plot(imb,G6[(0+i*n_imb):(n_imb+i*n_imb)],label=\"spread = \"+str(i+1))\n",
    "# plt.ylim(-0.005,0.005)\n",
    "plt.legend(loc='upper left')\n",
    "plt.title('microprice adjustment')\n",
    "plt.xlabel('Imbalance')"
   ]
  },
  {
   "cell_type": "code",
   "execution_count": 7,
   "id": "0d6a6d15",
   "metadata": {},
   "outputs": [],
   "source": [
    "G6"
   ]
  },
  {
   "cell_type": "markdown",
   "id": "cfbff0ab",
   "metadata": {},
   "source": [
    "### out of sample test   "
   ]
  },
  {
   "cell_type": "code",
   "execution_count": null,
   "id": "ff0529f1",
   "metadata": {},
   "outputs": [],
   "source": [
    "# processing data \n",
    "df_data_test_to_use = processing_data(df_data_test, n_imb, n_spread, dt, is_filter_symm=False)\n",
    "\n",
    "# 记录需要的调整\n",
    "spread1_adjustment = dict((i,G6[i]) for i in range(n_imb))\n",
    "spread2_adjustment = dict((i,G6[i+11]) for i in range(n_imb))\n",
    "\n",
    "df_data_test_to_use['micro_adj'] = df_data_test_to_use.loc[df_data_test_to_use.spread==1*K[3],].imb_bucket.map(spread1_adjustment)\n",
    "df_data_test_to_use['micro_price'] = df_data_test_to_use['mid'] + df_data_test_to_use['micro_adj']\n",
    "valid_test = df_data_test_to_use.loc[df_data_test_to_use.micro_price.notna(),]\n",
    "valid_test = valid_test.drop_duplicates(subset=['time_seconds'],keep='last').reset_index(drop=True)\n",
    "\n",
    "valid_test"
   ]
  },
  {
   "cell_type": "code",
   "execution_count": null,
   "id": "4768d9ea",
   "metadata": {},
   "outputs": [],
   "source": [
    "# 500ms 后的预测效果\n",
    "valid_test['future_price'] = valid_test.mid.shift(-500)\n",
    "\n",
    "score_mid = (valid_test.future_price - valid_test.mid).abs().mean()\n",
    "score_wmid = (valid_test.future_price - valid_test.wmid).abs().mean()\n",
    "score_micro_price = (valid_test.future_price - valid_test.micro_price).abs().mean()\n",
    "\n",
    "print(\"mse of mid:\", score_mid)\n",
    "print(\"mse of wmid:\", score_wmid)\n",
    "print(\"mse of micro-price:\", score_micro_price)\n",
    "\n",
    "print('improve of wmid to mid:', score_mid - score_wmid)\n",
    "print('improve of micro to wmid:', score_wmid - score_micro_price)"
   ]
  },
  {
   "cell_type": "code",
   "execution_count": null,
   "id": "2cb87ab0",
   "metadata": {},
   "outputs": [],
   "source": [
    "# 1s 后的预测效果\n",
    "valid_test['future_price'] = valid_test.mid.shift(-1000)\n",
    "\n",
    "score_mid = (valid_test.future_price - valid_test.mid).abs().mean()\n",
    "score_wmid = (valid_test.future_price - valid_test.wmid).abs().mean()\n",
    "score_micro_price = (valid_test.future_price - valid_test.micro_price).abs().mean()\n",
    "\n",
    "print(\"mse of mid:\", score_mid)\n",
    "print(\"mse of wmid:\", score_wmid)\n",
    "print(\"mse of micro-price:\", score_micro_price)\n",
    "\n",
    "print('improve of wmid to mid:', score_mid - score_wmid)\n",
    "print('improve of micro to wmid:', score_wmid - score_micro_price)"
   ]
  },
  {
   "cell_type": "code",
   "execution_count": null,
   "id": "8a3d0aab",
   "metadata": {},
   "outputs": [],
   "source": [
    "# 3s 后的预测效果\n",
    "valid_test['future_price'] = valid_test.mid.shift(-3000)\n",
    "\n",
    "score_mid = (valid_test.future_price - valid_test.mid).abs().mean()\n",
    "score_wmid = (valid_test.future_price - valid_test.wmid).abs().mean()\n",
    "score_micro_price = (valid_test.future_price - valid_test.micro_price).abs().mean()\n",
    "\n",
    "print(\"mse of mid:\", score_mid)\n",
    "print(\"mse of wmid:\", score_wmid)\n",
    "print(\"mse of micro-price:\", score_micro_price)\n",
    "\n",
    "print('improve of wmid to mid:', score_mid - score_wmid)\n",
    "print('improve of micro to wmid:', score_wmid - score_micro_price)"
   ]
  },
  {
   "cell_type": "code",
   "execution_count": null,
   "id": "14fcd82b",
   "metadata": {},
   "outputs": [],
   "source": []
  },
  {
   "cell_type": "code",
   "execution_count": null,
   "id": "7675f6f4",
   "metadata": {},
   "outputs": [],
   "source": []
  },
  {
   "cell_type": "code",
   "execution_count": null,
   "id": "64cf2418",
   "metadata": {},
   "outputs": [],
   "source": []
  },
  {
   "cell_type": "code",
   "execution_count": null,
   "id": "2bf74543",
   "metadata": {},
   "outputs": [],
   "source": []
  },
  {
   "cell_type": "code",
   "execution_count": null,
   "id": "8b2668d7",
   "metadata": {},
   "outputs": [],
   "source": []
  },
  {
   "cell_type": "code",
   "execution_count": null,
   "id": "604d2036",
   "metadata": {},
   "outputs": [],
   "source": []
  },
  {
   "cell_type": "code",
   "execution_count": null,
   "id": "0165a484",
   "metadata": {},
   "outputs": [],
   "source": []
  },
  {
   "cell_type": "code",
   "execution_count": null,
   "id": "c609a549",
   "metadata": {},
   "outputs": [],
   "source": []
  }
 ],
 "metadata": {
  "kernelspec": {
   "display_name": "conda_python3",
   "language": "python",
   "name": "conda_python3"
  },
  "language_info": {
   "codemirror_mode": {
    "name": "ipython",
    "version": 3
   },
   "file_extension": ".py",
   "mimetype": "text/x-python",
   "name": "python",
   "nbconvert_exporter": "python",
   "pygments_lexer": "ipython3",
   "version": "3.10.13"
  }
 },
 "nbformat": 4,
 "nbformat_minor": 5
}
