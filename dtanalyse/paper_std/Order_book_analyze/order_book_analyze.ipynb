{
 "cells": [
  {
   "cell_type": "code",
   "execution_count": 3,
   "id": "186364c7",
   "metadata": {},
   "outputs": [],
   "source": [
    "import os, sys, datetime, logging\n",
    "import plotly.graph_objs as go\n",
    "from plotly.subplots import make_subplots\n",
    "import plotly.graph_objects as go\n",
    "import pandas as pd\n",
    "import numpy as np\n",
    "import plotly.express as px\n",
    "import datetime\n",
    "import calendar\n",
    "from datetime import timedelta\n",
    "import joblib\n",
    "from tqdm import tqdm\n",
    "from decimal import Decimal, getcontext\n",
    "\n",
    "sys.path.append(os.getcwd().split('paper_std')[0])\n",
    "if '../' not in sys.path:\n",
    "    sys.path.append('../')\n",
    "\n",
    "from util.s3_method import *\n",
    "from util.time_method import *\n",
    "from util.plot_method import easy_plot,timeline_sample_kv, get_plot_diff_data\n",
    "from util.date import tz, pre_quarter_friday, next_quarter_friday\n",
    "from util.hedge_log import initlog\n",
    "from util.recover_depth import recoveryDepth\n",
    "from util.statistic_method_v2 import describe_series\n",
    "from util.load_s3_data import *\n",
    "from dateutil.relativedelta import relativedelta\n",
    "from util.Future_Load import *"
   ]
  },
  {
   "cell_type": "markdown",
   "id": "fd71e254",
   "metadata": {},
   "source": [
    "根据Trade和ticker数据（默认使用2024-1-31-Binance-eth_udst）讨论每笔Trade数据对同时刻、最近的上一时刻ticker数据的偏离程度:\n",
    "* tick_len 可设置的每档变动单位,为数字例如：0.01, 2, etc.（默认使用第一笔trade数据的变动幅度: keep_first_nonzero计算）\n",
    "* total_num为对偏离程度统计的档数，默认有5档，偏离程度超过5*tick_len均设为第5档\n"
   ]
  },
  {
   "cell_type": "code",
   "execution_count": 14,
   "id": "cc1beb33",
   "metadata": {},
   "outputs": [],
   "source": [
    "def get_data(start_date, end_date, exchange, symbol):\n",
    "    trade = FutureData.thread_get(FutureData.get_cex_trade, start_date, end_date, symbol, exchange, plot_interval_us = None)\n",
    "    ticker = FutureData.thread_get(FutureData.get_cex_ticker, start_date, end_date, symbol, exchange, plot_interval_us = None)\n",
    "    trade = pd.DataFrame(trade)\n",
    "    ticker = pd.DataFrame(ticker).rename(columns={'tp':'time','ap':'ask1','aa':'askqty1','bp':'bid1','ba':'bidqty1'})\n",
    "    trade = trade[['T','p','q','m']].rename(columns = {'p':'price','q':'qty','T':'time','m':'is_buyer_maker'})\n",
    "    return ticker, trade\n",
    "\n",
    "def keep_first_nonzero(value_list):\n",
    "    '''辅助函数，用来找到第一位非零的位数作为tick_len'''\n",
    "    not_zero = value_list != 0\n",
    "    if sum(not_zero) == 0:\n",
    "        print('输入交易价差全部为0，tick_len默认设置为0.01')\n",
    "        return 0.01\n",
    "    else:\n",
    "        value = value_list[not_zero][0]\n",
    "        if value < 1 :\n",
    "            value_str = '%f'%(value)\n",
    "            nonzero_index = next((i for i, c in enumerate(value_str) if c != '0' and c != '.'), None)\n",
    "            print(f'tick_len设置为{float(value_str[:nonzero_index + 1])}')\n",
    "            return float(value_str[:nonzero_index + 1])  # 只保留第一个非零数字和后面的数字\n",
    "        else:\n",
    "            print(f'tick_len设置为{value//1}')\n",
    "            return value//1\n",
    "    \n",
    "def calculate_dif(price1, price2, tick_len):\n",
    "    precision = min(Decimal(str(price1)).as_tuple().exponent, Decimal(str(price2)).as_tuple().exponent)\n",
    "    return max((round(price1, abs(precision)) - round(price2, abs(precision)))//tick_len,0)\n",
    "\n",
    "def get_dif_num(ticker, trade, tick_len = None, total_num=5):\n",
    "    bid_num, ask_num = {}, {}\n",
    "    for i in range(total_num):\n",
    "        bid_num[f'bid{i+1}'] = 0\n",
    "        ask_num[f'ask{i+1}'] = 0\n",
    "    if tick_len == None:\n",
    "        tick_len = keep_first_nonzero(np.abs(np.diff(trade.loc[0:10, 'price'])))\n",
    "    for i in tqdm(range(len(trade))):\n",
    "        timestamp, price, qty, is_buyer = trade.iloc[i,:]\n",
    "        if timestamp>=ticker.time.values[0]:\n",
    "            ticker_sub = ticker[ticker.time<=timestamp].iloc[-1,:]\n",
    "            if is_buyer == 'BUY':\n",
    "                num = calculate_dif(price, ticker_sub['ask1'], tick_len)\n",
    "                if num < total_num:\n",
    "                    bid_num[f'bid{int(num+1)}'] += 1\n",
    "                else:\n",
    "                    bid_num[f'bid{total_num}'] += 1\n",
    "            else:\n",
    "                num = calculate_dif(ticker_sub['bid1'], price, tick_len)\n",
    "                if num < total_num:\n",
    "                    ask_num[f'ask{int(num+1)}'] += 1\n",
    "                else:\n",
    "                    ask_num[f'ask{total_num}'] += 1\n",
    "    return bid_num, ask_num\n",
    "\n",
    "def solve_percentile(dic_num, direction):\n",
    "    total = 0\n",
    "    for key in dic_num.keys():\n",
    "        total+=dic_num[key]\n",
    "    print(f'总共{direction}成交盘口{total}笔：')\n",
    "    for key in dic_num.keys():\n",
    "        print(f'{key}档位占比{dic_num[key]/total: .2f}')\n"
   ]
  },
  {
   "cell_type": "code",
   "execution_count": 12,
   "id": "77e59293",
   "metadata": {
    "scrolled": true
   },
   "outputs": [],
   "source": [
    "start_date = datetime.datetime(2024,3,14,10,tzinfo=TZ_8)\n",
    "end_date = datetime.datetime(2024,3,14,11, tzinfo=TZ_8)\n",
    "exchange, symbol =\"binance\", \"bnb_usdt\"\n",
    "ticker,trade = get_data(start_date, end_date, exchange, symbol)\n",
    "tick_len = None\n",
    "total_num = 20"
   ]
  },
  {
   "cell_type": "code",
   "execution_count": 15,
   "id": "a44cd1a1",
   "metadata": {},
   "outputs": [
    {
     "name": "stdout",
     "output_type": "stream",
     "text": [
      "tick_len设置为0.1\n"
     ]
    },
    {
     "name": "stderr",
     "output_type": "stream",
     "text": [
      "100%|██████████| 39615/39615 [01:09<00:00, 567.17it/s]"
     ]
    },
    {
     "name": "stdout",
     "output_type": "stream",
     "text": [
      "总共BUY成交盘口21251笔：\n",
      "bid1档位占比 0.93\n",
      "bid2档位占比 0.04\n",
      "bid3档位占比 0.02\n",
      "bid4档位占比 0.01\n",
      "bid5档位占比 0.00\n",
      "bid6档位占比 0.00\n",
      "bid7档位占比 0.00\n",
      "bid8档位占比 0.00\n",
      "bid9档位占比 0.00\n",
      "bid10档位占比 0.00\n",
      "bid11档位占比 0.00\n",
      "bid12档位占比 0.00\n",
      "bid13档位占比 0.00\n",
      "bid14档位占比 0.00\n",
      "bid15档位占比 0.00\n",
      "bid16档位占比 0.00\n",
      "bid17档位占比 0.00\n",
      "bid18档位占比 0.00\n",
      "bid19档位占比 0.00\n",
      "bid20档位占比 0.00\n",
      "总共SELL成交盘口18364笔：\n",
      "ask1档位占比 0.88\n",
      "ask2档位占比 0.07\n",
      "ask3档位占比 0.03\n",
      "ask4档位占比 0.01\n",
      "ask5档位占比 0.01\n",
      "ask6档位占比 0.00\n",
      "ask7档位占比 0.00\n",
      "ask8档位占比 0.00\n",
      "ask9档位占比 0.00\n",
      "ask10档位占比 0.00\n",
      "ask11档位占比 0.00\n",
      "ask12档位占比 0.00\n",
      "ask13档位占比 0.00\n",
      "ask14档位占比 0.00\n",
      "ask15档位占比 0.00\n",
      "ask16档位占比 0.00\n",
      "ask17档位占比 0.00\n",
      "ask18档位占比 0.00\n",
      "ask19档位占比 0.00\n",
      "ask20档位占比 0.00\n"
     ]
    },
    {
     "name": "stderr",
     "output_type": "stream",
     "text": [
      "\n"
     ]
    }
   ],
   "source": [
    "bid_num, ask_num = get_dif_num(ticker, trade, tick_len, total_num)\n",
    "solve_percentile(bid_num, 'BUY')\n",
    "solve_percentile(ask_num, 'SELL')"
   ]
  },
  {
   "cell_type": "code",
   "execution_count": null,
   "id": "21f0c04f",
   "metadata": {},
   "outputs": [
    {
     "name": "stdout",
     "output_type": "stream",
     "text": [
      "tick_len设置为0.01\n",
      "binance:bnb_usdt_uswap 618.3 1.617337861879347e-05\n"
     ]
    },
    {
     "name": "stderr",
     "output_type": "stream",
     "text": [
      "100%|██████████| 142656/142656 [09:45<00:00, 243.59it/s]\n"
     ]
    },
    {
     "name": "stdout",
     "output_type": "stream",
     "text": [
      "总共BUY成交盘口71023笔：\n",
      "bid1档位占比 0.71\n",
      "bid2档位占比 0.04\n",
      "bid3档位占比 0.03\n",
      "bid4档位占比 0.03\n",
      "bid5档位占比 0.02\n",
      "bid6档位占比 0.02\n",
      "bid7档位占比 0.01\n",
      "bid8档位占比 0.01\n",
      "bid9档位占比 0.01\n",
      "bid10档位占比 0.01\n",
      "bid11档位占比 0.01\n",
      "bid12档位占比 0.01\n",
      "bid13档位占比 0.01\n",
      "bid14档位占比 0.01\n",
      "bid15档位占比 0.00\n",
      "bid16档位占比 0.00\n",
      "bid17档位占比 0.00\n",
      "bid18档位占比 0.00\n",
      "bid19档位占比 0.00\n",
      "bid20档位占比 0.05\n",
      "总共SELL成交盘口71632笔：\n",
      "ask1档位占比 0.69\n",
      "ask2档位占比 0.04\n",
      "ask3档位占比 0.03\n",
      "ask4档位占比 0.02\n",
      "ask5档位占比 0.02\n",
      "ask6档位占比 0.02\n",
      "ask7档位占比 0.02\n",
      "ask8档位占比 0.01\n",
      "ask9档位占比 0.01\n",
      "ask10档位占比 0.01\n",
      "ask11档位占比 0.01\n",
      "ask12档位占比 0.01\n",
      "ask13档位占比 0.01\n",
      "ask14档位占比 0.00\n",
      "ask15档位占比 0.00\n",
      "ask16档位占比 0.00\n",
      "ask17档位占比 0.00\n",
      "ask18档位占比 0.00\n",
      "ask19档位占比 0.00\n",
      "ask20档位占比 0.09\n",
      "tick_len设置为0.01\n",
      "binance:btc_usdt 72928.32 1.3712094286554247e-07\n"
     ]
    },
    {
     "name": "stderr",
     "output_type": "stream",
     "text": [
      "100%|██████████| 54583/54583 [01:54<00:00, 478.21it/s]\n"
     ]
    },
    {
     "name": "stdout",
     "output_type": "stream",
     "text": [
      "总共BUY成交盘口27683笔：\n",
      "bid1档位占比 0.67\n",
      "bid2档位占比 0.00\n",
      "bid3档位占比 0.01\n",
      "bid4档位占比 0.00\n",
      "bid5档位占比 0.00\n",
      "bid6档位占比 0.01\n",
      "bid7档位占比 0.00\n",
      "bid8档位占比 0.00\n",
      "bid9档位占比 0.00\n",
      "bid10档位占比 0.00\n",
      "bid11档位占比 0.00\n",
      "bid12档位占比 0.00\n",
      "bid13档位占比 0.00\n",
      "bid14档位占比 0.00\n",
      "bid15档位占比 0.00\n",
      "bid16档位占比 0.00\n",
      "bid17档位占比 0.00\n",
      "bid18档位占比 0.00\n",
      "bid19档位占比 0.00\n",
      "bid20档位占比 0.30\n",
      "总共SELL成交盘口26896笔：\n",
      "ask1档位占比 0.81\n",
      "ask2档位占比 0.00\n",
      "ask3档位占比 0.00\n",
      "ask4档位占比 0.00\n",
      "ask5档位占比 0.00\n",
      "ask6档位占比 0.00\n",
      "ask7档位占比 0.00\n",
      "ask8档位占比 0.00\n",
      "ask9档位占比 0.00\n",
      "ask10档位占比 0.00\n",
      "ask11档位占比 0.00\n",
      "ask12档位占比 0.00\n",
      "ask13档位占比 0.00\n",
      "ask14档位占比 0.00\n",
      "ask15档位占比 0.00\n",
      "ask16档位占比 0.00\n",
      "ask17档位占比 0.00\n",
      "ask18档位占比 0.00\n",
      "ask19档位占比 0.00\n",
      "ask20档位占比 0.18\n",
      "tick_len设置为0.01\n",
      "binance:eth_usdt 3983.89 2.510109465873807e-06\n"
     ]
    },
    {
     "name": "stderr",
     "output_type": "stream",
     "text": [
      " 99%|█████████▉| 36619/37066 [01:12<00:01, 303.63it/s]"
     ]
    }
   ],
   "source": [
    "start_date = datetime.datetime(2024,3,14,10,tzinfo=TZ_8)\n",
    "end_date = datetime.datetime(2024,3,14,11, tzinfo=TZ_8)\n",
    "exchange, symbol =\"binance\", \"eth_usdt\"\n",
    "tick_len = None\n",
    "total_num = 20\n",
    "for symbol in ['bnb_usdt_uswap', 'btc_usdt', 'eth_usdt']: #, 'bnb_usdt_uswap', 'eth_usdt', 'eth_usdt_uswap','btc_usdt', 'btc_usdt_uswap',]:\n",
    "    ticker,trade = get_data(start_date, end_date, exchange, symbol)\n",
    "    tick_len = keep_first_nonzero(np.abs(np.diff(trade.loc[0:10, 'price'])))    \n",
    "    print(f\"{exchange}:{symbol} {trade.iloc[0].price} {tick_len/trade.iloc[0].price}\")\n",
    "    bid_num, ask_num = get_dif_num(ticker, trade, tick_len, total_num)\n",
    "    solve_percentile(bid_num, 'BUY')\n",
    "    solve_percentile(ask_num, 'SELL')"
   ]
  },
  {
   "cell_type": "code",
   "execution_count": null,
   "id": "2ea28b75",
   "metadata": {},
   "outputs": [
    {
     "name": "stdout",
     "output_type": "stream",
     "text": [
      "tick_len设置为0.01\n",
      "binance:eth_usdt 2340.91 4.27184300122602e-06\n"
     ]
    },
    {
     "name": "stderr",
     "output_type": "stream",
     "text": [
      "100%|██████████| 77114/77114 [05:13<00:00, 245.59it/s]\n"
     ]
    },
    {
     "name": "stdout",
     "output_type": "stream",
     "text": [
      "总共BUY成交盘口41693笔：\n",
      "bid1档位占比 0.62\n",
      "bid2档位占比 0.06\n",
      "bid3档位占比 0.02\n",
      "bid4档位占比 0.05\n",
      "bid5档位占比 0.01\n",
      "bid6档位占比 0.04\n",
      "bid7档位占比 0.01\n",
      "bid8档位占比 0.02\n",
      "bid9档位占比 0.01\n",
      "bid10档位占比 0.02\n",
      "bid11档位占比 0.00\n",
      "bid12档位占比 0.01\n",
      "bid13档位占比 0.00\n",
      "bid14档位占比 0.01\n",
      "bid15档位占比 0.00\n",
      "bid16档位占比 0.01\n",
      "bid17档位占比 0.00\n",
      "bid18档位占比 0.01\n",
      "bid19档位占比 0.00\n",
      "bid20档位占比 0.08\n",
      "总共SELL成交盘口35418笔：\n",
      "ask1档位占比 0.67\n",
      "ask2档位占比 0.05\n",
      "ask3档位占比 0.02\n",
      "ask4档位占比 0.04\n",
      "ask5档位占比 0.01\n",
      "ask6档位占比 0.03\n",
      "ask7档位占比 0.01\n",
      "ask8档位占比 0.02\n",
      "ask9档位占比 0.01\n",
      "ask10档位占比 0.02\n",
      "ask11档位占比 0.00\n",
      "ask12档位占比 0.01\n",
      "ask13档位占比 0.00\n",
      "ask14档位占比 0.01\n",
      "ask15档位占比 0.00\n",
      "ask16档位占比 0.01\n",
      "ask17档位占比 0.00\n",
      "ask18档位占比 0.01\n",
      "ask19档位占比 0.00\n",
      "ask20档位占比 0.07\n",
      "输入交易价差全部为0，tick_len默认设置为0.01\n",
      "binance:eth_usdt_uswap 2340.43 4.2727191157180525e-06\n"
     ]
    },
    {
     "name": "stderr",
     "output_type": "stream",
     "text": [
      " 73%|███████▎  | 236823/325304 [1:01:58<22:50:44,  1.08it/s]"
     ]
    }
   ],
   "source": [
    "start_date = datetime.datetime(2024,1,31,0,tzinfo=TZ_8)\n",
    "end_date = datetime.datetime(2024,1,31,1, tzinfo=TZ_8)\n",
    "exchange, symbol =\"binance\", \"eth_usdt\"\n",
    "tick_len = None\n",
    "total_num = 20\n",
    "for symbol in [ 'eth_usdt', 'eth_usdt_uswap']:\n",
    "    ticker,trade = get_data(start_date, end_date, exchange, symbol)\n",
    "    tick_len = keep_first_nonzero(np.abs(np.diff(trade.loc[0:10, 'price'])))    \n",
    "    print(f\"{exchange}:{symbol} {trade.iloc[0].price} {tick_len/trade.iloc[0].price}\")\n",
    "    bid_num, ask_num = get_dif_num(ticker, trade, tick_len, total_num)\n",
    "    solve_percentile(bid_num, 'BUY')\n",
    "    solve_percentile(ask_num, 'SELL')"
   ]
  },
  {
   "cell_type": "code",
   "execution_count": null,
   "id": "2c7aa4a5",
   "metadata": {},
   "outputs": [],
   "source": []
  },
  {
   "cell_type": "code",
   "execution_count": null,
   "id": "cd8a3262",
   "metadata": {},
   "outputs": [],
   "source": []
  }
 ],
 "metadata": {
  "kernelspec": {
   "display_name": "Python 3 (ipykernel)",
   "language": "python",
   "name": "python3"
  },
  "language_info": {
   "codemirror_mode": {
    "name": "ipython",
    "version": 3
   },
   "file_extension": ".py",
   "mimetype": "text/x-python",
   "name": "python",
   "nbconvert_exporter": "python",
   "pygments_lexer": "ipython3",
   "version": "3.11.7"
  }
 },
 "nbformat": 4,
 "nbformat_minor": 5
}
