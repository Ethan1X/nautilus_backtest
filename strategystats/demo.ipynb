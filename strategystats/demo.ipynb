{
 "cells": [
  {
   "cell_type": "code",
   "execution_count": null,
   "id": "71128382-e112-4683-8815-96bfc1f4ba84",
   "metadata": {},
   "outputs": [],
   "source": [
    "import time\n",
    "import pandas as pd\n",
    "from strategystats.stat_load import *\n",
    "from strategystats.stat_analysis import *\n",
    "\n",
    "# symbol信息和初始balance\n",
    "token = \"BTC\"\n",
    "quote = \"USDT\"\n",
    "exchange = \"BINANCE\"\n",
    "symbol_type = \"SPOT_NORMAL\"\n",
    "starting_balance = [f\"10 {token}\", f\"10 {quote}\"]\n",
    "\n",
    "# 原始数据order和price等存储位置（自定义）\n",
    "load_path = f\"./results/backtest/{token}{quote}.{exchange}_{symbol_type}\"\n",
    "# 存储report位置（自定义）\n",
    "cache_path = f\"./results/cache/{token}{quote}.{exchange}_{symbol_type}\"\n",
    "\n",
    "# 指定统计时间段\n",
    "start_time = pd.Timestamp(\"2024-04-02 00:00:00\", tz=\"HONGKONG\")\n",
    "end_time = pd.Timestamp(\"2024-04-02 01:00:00\", tz=\"HONGKONG\")\n",
    "trading_days = (end_time - start_time).total_seconds() / 3600 / 24\n",
    "\n",
    "# 画图参数\n",
    "plot_config = {\n",
    "    \"market_prices\": {\n",
    "        \"prices_list\": [\"Mid Price\"]  # s3数据可以使用\"Ask Price\", \"Bid Price\", \"Mid Price\"\n",
    "    },\n",
    "    \"net_value\": True,  # 是否画净值曲线\n",
    "    \"position\": True,  # 是否画仓位曲线\n",
    "    \"stat_metrics\": True,  # 是否显示统计指标\n",
    "    \"hedge\": {\n",
    "        \"type_list\": [\"buy_to_open\", \"sell_to_close\", \"sell_to_open\", \"buy_to_close\"]  # hedge开平仓点显示\n",
    "    },\n",
    "    \"orders\": {\n",
    "        \"status_list\": ['OPENED', 'CANCELED', 'FILLED', 'REJECTED']  # 不同下单点显示\n",
    "    },\n",
    "}\n",
    "\n",
    "# 统计回测结果\n",
    "t1 = time.time()\n",
    "capital = get_capital_list(starting_balance)\n",
    "# 只统计不画图\n",
    "load_stra_record(token, load_path, start_time, end_time, capital, cache_path, quote, exchange, symbol_type)\n",
    "# 统计并画图\n",
    "# # interval为画图采样间隔，use_s3为是否使用s3的价格数据（若不使用s3数据则需要在load_path下存储market_price.npz)，使用s3数据较慢\n",
    "load_period_result(token, load_path, cache_path, start_time, end_time, capital, \n",
    "                   plot_config, quote, exchange, symbol_type, interval=1, use_s3=False)\n",
    "print(f'统计耗时：{time.time()-t1:.2f}s')"
   ]
  }
 ],
 "metadata": {
  "kernelspec": {
   "display_name": "Python 3 (ipykernel)",
   "language": "python",
   "name": "python3"
  },
  "language_info": {
   "codemirror_mode": {
    "name": "ipython",
    "version": 3
   },
   "file_extension": ".py",
   "mimetype": "text/x-python",
   "name": "python",
   "nbconvert_exporter": "python",
   "pygments_lexer": "ipython3",
   "version": "3.11.7"
  }
 },
 "nbformat": 4,
 "nbformat_minor": 5
}
