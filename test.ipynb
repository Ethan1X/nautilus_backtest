{
 "cells": [
  {
   "cell_type": "code",
   "execution_count": null,
   "metadata": {},
   "outputs": [],
   "source": []
  },
  {
   "cell_type": "code",
   "execution_count": null,
   "metadata": {},
   "outputs": [],
   "source": []
  },
  {
   "cell_type": "code",
   "execution_count": null,
   "metadata": {},
   "outputs": [],
   "source": []
  },
  {
   "cell_type": "code",
   "execution_count": 1,
   "metadata": {},
   "outputs": [],
   "source": [
    "import os\n",
    "import time\n",
    "import pandas as pd\n",
    "import numpy as np"
   ]
  },
  {
   "cell_type": "code",
   "execution_count": 2,
   "metadata": {},
   "outputs": [
    {
     "data": {
      "text/html": [
       "<div>\n",
       "<style scoped>\n",
       "    .dataframe tbody tr th:only-of-type {\n",
       "        vertical-align: middle;\n",
       "    }\n",
       "\n",
       "    .dataframe tbody tr th {\n",
       "        vertical-align: top;\n",
       "    }\n",
       "\n",
       "    .dataframe thead th {\n",
       "        text-align: right;\n",
       "    }\n",
       "</style>\n",
       "<table border=\"1\" class=\"dataframe\">\n",
       "  <thead>\n",
       "    <tr style=\"text-align: right;\">\n",
       "      <th></th>\n",
       "      <th>timestamp</th>\n",
       "      <th>SignalModel01</th>\n",
       "      <th>SignalModel02</th>\n",
       "      <th>SignalModel03</th>\n",
       "      <th>SignalModel04</th>\n",
       "    </tr>\n",
       "  </thead>\n",
       "  <tbody>\n",
       "    <tr>\n",
       "      <th>24847270</th>\n",
       "      <td>1.714406e+18</td>\n",
       "      <td>0.000048</td>\n",
       "      <td>0.000062</td>\n",
       "      <td>0.00004</td>\n",
       "      <td>0.000049</td>\n",
       "    </tr>\n",
       "    <tr>\n",
       "      <th>24847271</th>\n",
       "      <td>1.714406e+18</td>\n",
       "      <td>0.000048</td>\n",
       "      <td>0.000062</td>\n",
       "      <td>0.00004</td>\n",
       "      <td>0.000049</td>\n",
       "    </tr>\n",
       "    <tr>\n",
       "      <th>24847272</th>\n",
       "      <td>1.714406e+18</td>\n",
       "      <td>0.000048</td>\n",
       "      <td>0.000062</td>\n",
       "      <td>0.00004</td>\n",
       "      <td>0.000049</td>\n",
       "    </tr>\n",
       "    <tr>\n",
       "      <th>24847273</th>\n",
       "      <td>1.714406e+18</td>\n",
       "      <td>0.000048</td>\n",
       "      <td>0.000062</td>\n",
       "      <td>0.00004</td>\n",
       "      <td>0.000049</td>\n",
       "    </tr>\n",
       "    <tr>\n",
       "      <th>24847274</th>\n",
       "      <td>1.714406e+18</td>\n",
       "      <td>0.000048</td>\n",
       "      <td>0.000062</td>\n",
       "      <td>0.00004</td>\n",
       "      <td>0.000049</td>\n",
       "    </tr>\n",
       "  </tbody>\n",
       "</table>\n",
       "</div>"
      ],
      "text/plain": [
       "             timestamp  SignalModel01  SignalModel02  SignalModel03  \\\n",
       "24847270  1.714406e+18       0.000048       0.000062        0.00004   \n",
       "24847271  1.714406e+18       0.000048       0.000062        0.00004   \n",
       "24847272  1.714406e+18       0.000048       0.000062        0.00004   \n",
       "24847273  1.714406e+18       0.000048       0.000062        0.00004   \n",
       "24847274  1.714406e+18       0.000048       0.000062        0.00004   \n",
       "\n",
       "          SignalModel04  \n",
       "24847270       0.000049  \n",
       "24847271       0.000049  \n",
       "24847272       0.000049  \n",
       "24847273       0.000049  \n",
       "24847274       0.000049  "
      ]
     },
     "execution_count": 2,
     "metadata": {},
     "output_type": "execute_result"
    }
   ],
   "source": [
    "df = pd.read_parquet('/data/dp-data/xuefeng_data/ready_for_use/Test202404_Submit20240926/20240401_20240630/btc_usdt_binance/feature_20240430.parquet')\n",
    "df.head()"
   ]
  },
  {
   "cell_type": "code",
   "execution_count": 3,
   "metadata": {},
   "outputs": [
    {
     "data": {
      "text/html": [
       "<div>\n",
       "<style scoped>\n",
       "    .dataframe tbody tr th:only-of-type {\n",
       "        vertical-align: middle;\n",
       "    }\n",
       "\n",
       "    .dataframe tbody tr th {\n",
       "        vertical-align: top;\n",
       "    }\n",
       "\n",
       "    .dataframe thead th {\n",
       "        text-align: right;\n",
       "    }\n",
       "</style>\n",
       "<table border=\"1\" class=\"dataframe\">\n",
       "  <thead>\n",
       "    <tr style=\"text-align: right;\">\n",
       "      <th></th>\n",
       "      <th>timestamp</th>\n",
       "      <th>return_predict</th>\n",
       "    </tr>\n",
       "  </thead>\n",
       "  <tbody>\n",
       "    <tr>\n",
       "      <th>25055912</th>\n",
       "      <td>1.714406e+18</td>\n",
       "      <td>0.000165</td>\n",
       "    </tr>\n",
       "    <tr>\n",
       "      <th>25055913</th>\n",
       "      <td>1.714406e+18</td>\n",
       "      <td>0.000164</td>\n",
       "    </tr>\n",
       "    <tr>\n",
       "      <th>25055914</th>\n",
       "      <td>1.714406e+18</td>\n",
       "      <td>0.000169</td>\n",
       "    </tr>\n",
       "    <tr>\n",
       "      <th>25055915</th>\n",
       "      <td>1.714406e+18</td>\n",
       "      <td>0.000172</td>\n",
       "    </tr>\n",
       "    <tr>\n",
       "      <th>25055916</th>\n",
       "      <td>1.714406e+18</td>\n",
       "      <td>0.000173</td>\n",
       "    </tr>\n",
       "  </tbody>\n",
       "</table>\n",
       "</div>"
      ],
      "text/plain": [
       "             timestamp  return_predict\n",
       "25055912  1.714406e+18        0.000165\n",
       "25055913  1.714406e+18        0.000164\n",
       "25055914  1.714406e+18        0.000169\n",
       "25055915  1.714406e+18        0.000172\n",
       "25055916  1.714406e+18        0.000173"
      ]
     },
     "execution_count": 3,
     "metadata": {},
     "output_type": "execute_result"
    }
   ],
   "source": [
    "df = pd.read_parquet('/data/dp-data/xuefeng_data/ready_for_use/600s_stagebaseline_202404_1016/20240401_20240630/btc_usdt_binance/feature_20240430.parquet')\n",
    "df.head()"
   ]
  },
  {
   "cell_type": "code",
   "execution_count": null,
   "metadata": {},
   "outputs": [],
   "source": []
  },
  {
   "cell_type": "code",
   "execution_count": 2,
   "metadata": {},
   "outputs": [
    {
     "name": "stdout",
     "output_type": "stream",
     "text": [
      "['O-20240421-160000-taker_stra-000-1' 'O-20240421-160000-taker_stra-000-1'\n",
      " 'O-20240421-160000-taker_stra-000-1' ...\n",
      " 'O-20240422-160000-taker_stra-000-1416414'\n",
      " 'O-20240422-160000-taker_stra-000-1416415'\n",
      " 'on_stop_close_all_order_1713801600000']\n",
      "order_id: ['O-20240421-160000-taker_stra-000-1' 'O-20240421-160000-taker_stra-000-1'\n",
      " 'O-20240421-160000-taker_stra-000-1' ...\n",
      " 'O-20240422-160000-taker_stra-000-1416414'\n",
      " 'O-20240422-160000-taker_stra-000-1416415'\n",
      " 'on_stop_close_all_order_1713801600000']\n",
      "status: ['INVALID_STATUS' 'OPENED' 'FILLED' ... 'FILLED' 'FILLED' 'FILLED']\n",
      "price: [    0.       0.       0.   ...     0.       0.   65994.38]\n",
      "amount: [0.0001 0.0001 0.0001 ... 0.0001 0.0001 0.0101]\n",
      "side: ['SELL' 'SELL' 'SELL' ... 'BUY' 'SELL' 'SELL']\n",
      "trade_type: ['TAKER' 'TAKER' 'TAKER' ... 'TAKER' 'TAKER' 'TAKER']\n",
      "order_type: ['MARKET' 'MARKET' 'MARKET' ... 'MARKET' 'MARKET' 'MARKET']\n",
      "filled_price: [    0.       0.   65043.69 ... 65994.39 65994.38 65994.38]\n",
      "filled_amount: [0.     0.     0.0001 ... 0.0001 0.0001 0.0101]\n",
      "commission: [0.         0.         0.03902621 ... 0.03959663 0.03959663 3.99925943]\n",
      "ts: [1713715200200 1713715200200 1713715200200 ... 1713801600000 1713801600000\n",
      " 1713801600000]\n"
     ]
    }
   ],
   "source": [
    "\n",
    "path = 'results/backtest_0918/BTCUSDT.BINANCE_SPOT_NORMAL/taker_stra_2024042200:00_2024042300:00_xuefeng_1e-05_-1e-05_maker_0_1e-05'\n",
    "price_npz = np.load(os.path.join(path, 'orders.npz'), allow_pickle=True)\n",
    "\n",
    "\n",
    "array = price_npz['order_id']  # 替换 'specific_key' 为实际的键\n",
    "print(array)\n",
    "\n",
    "for i in price_npz.keys():\n",
    "    print(f'{i}: {price_npz[i]}')"
   ]
  },
  {
   "cell_type": "code",
   "execution_count": null,
   "metadata": {},
   "outputs": [],
   "source": []
  },
  {
   "cell_type": "code",
   "execution_count": 3,
   "metadata": {},
   "outputs": [
    {
     "name": "stdout",
     "output_type": "stream",
     "text": [
      "name: []\n",
      "price: []\n",
      "amount: []\n",
      "ts: []\n"
     ]
    }
   ],
   "source": [
    "price_npz = np.load(os.path.join(path, 'signal.npz'), allow_pickle=True)\n",
    "\n",
    "for i in price_npz.keys():\n",
    "    print(f'{i}: {price_npz[i]}')"
   ]
  },
  {
   "cell_type": "code",
   "execution_count": 4,
   "metadata": {},
   "outputs": [
    {
     "name": "stdout",
     "output_type": "stream",
     "text": [
      "mid_price: [65043.695 64548.295 64502.625 64634.015 64338.295 64560.005 64578.365\n",
      " 64614.005 64643.745 64660.015 64743.115 64799.985 64822.005 64799.995\n",
      " 64733.805 64834.155 64797.995 64775.185 64771.995 64811.985 64685.915\n",
      " 64718.825 64736.805 64712.935 64537.995 64585.765 64625.125 64608.005\n",
      " 64541.215 64504.995 64646.165 65122.615 64929.985 64948.005 64686.515\n",
      " 64740.005 64693.995 64982.395 64982.005 64964.005 65074.005 65038.925\n",
      " 65028.005 64939.625 64967.995 64991.985 64991.795 64972.005 64941.145\n",
      " 65111.995 65123.015 65029.245 64869.725 64860.595 64907.035 64817.605\n",
      " 65228.535 64906.005 64728.1   64772.685 64663.995 64640.005 64747.465\n",
      " 64761.965 64829.995 64732.005 64806.695 64999.995 65069.995 65286.005\n",
      " 65435.995 65962.005 65713.465 65796.875 65700.005 65695.995 65676.705\n",
      " 65752.005 65749.065 65836.545 65915.995 65959.995 65886.195 66103.285\n",
      " 66394.525 66272.015 66269.485 66281.035 66233.995 66299.905 66309.995\n",
      " 66328.165 66141.995 66028.015 66046.035 66060.455 65981.995 65988.905\n",
      " 66109.395 66137.995 66113.995 66049.985 65955.235 66024.005 65922.005\n",
      " 65960.005 65929.765 65871.695 65928.575 66016.005 66029.995 66015.385\n",
      " 65963.215 66014.365 66048.175 65886.435 66003.525 65913.525 65843.825\n",
      " 65829.965 65877.465 65899.995 65723.765 65933.845 65875.995 65840.425\n",
      " 66008.405 66208.415 66047.995 66073.905 65840.005 66073.995 66139.995\n",
      " 66189.975 66217.975 66440.855 66309.185 66245.975 66047.995 65787.015\n",
      " 65768.785 65807.995 65948.945 66009.995]\n",
      "ts: [1713715200000 1713715800000 1713716400002 1713717000004 1713717600004\n",
      " 1713718200005 1713718800006 1713719400007 1713720000007 1713720600007\n",
      " 1713721200007 1713721800009 1713722400011 1713723000011 1713723600011\n",
      " 1713724200012 1713724800013 1713725400016 1713726000016 1713726600016\n",
      " 1713727200039 1713727800052 1713728400095 1713729000101 1713729600103\n",
      " 1713730200103 1713730800190 1713731400197 1713732000397 1713732600783\n",
      " 1713733200858 1713733800887 1713734400914 1713735000928 1713735600932\n",
      " 1713736201000 1713736801002 1713737401010 1713738001023 1713738601083\n",
      " 1713739201088 1713739801365 1713740401465 1713741001625 1713741601900\n",
      " 1713742201970 1713742801976 1713743402426 1713744002469 1713744602582\n",
      " 1713745202773 1713745802797 1713746402800 1713747002807 1713747602818\n",
      " 1713748202863 1713748802866 1713749402868 1713750002880 1713750602889\n",
      " 1713751202902 1713751802933 1713752403067 1713753003081 1713753603087\n",
      " 1713754203099 1713754803315 1713755403500 1713756003651 1713756603763\n",
      " 1713757203809 1713757803822 1713758403826 1713759003959 1713759603968\n",
      " 1713760204067 1713760804078 1713761404082 1713762004208 1713762604243\n",
      " 1713763204264 1713763804290 1713764404411 1713765004417 1713765604421\n",
      " 1713766204422 1713766804424 1713767404429 1713768004466 1713768604474\n",
      " 1713769204477 1713769804530 1713770404607 1713771004607 1713771604680\n",
      " 1713772204689 1713772804699 1713773404834 1713774004835 1713774604867\n",
      " 1713775204908 1713775804943 1713776404957 1713777004986 1713777605031\n",
      " 1713778205213 1713778805373 1713779405397 1713780005425 1713780605427\n",
      " 1713781205428 1713781805499 1713782405509 1713783005632 1713783605647\n",
      " 1713784205710 1713784805710 1713785405731 1713786005762 1713786605841\n",
      " 1713787205857 1713787805995 1713788406045 1713789006068 1713789606124\n",
      " 1713790206142 1713790806153 1713791406155 1713792006250 1713792606251\n",
      " 1713793206288 1713793806419 1713794406420 1713795006501 1713795606514\n",
      " 1713796206533 1713796806553 1713797406590 1713798006606 1713798606617\n",
      " 1713799206637 1713799806703 1713800406833 1713801006901]\n"
     ]
    }
   ],
   "source": [
    "price_npz = np.load(os.path.join(path, 'market_price.npz'), allow_pickle=True)\n",
    "\n",
    "for i in price_npz.keys():\n",
    "    print(f'{i}: {price_npz[i]}')"
   ]
  },
  {
   "cell_type": "code",
   "execution_count": null,
   "metadata": {},
   "outputs": [],
   "source": []
  },
  {
   "cell_type": "code",
   "execution_count": null,
   "metadata": {},
   "outputs": [],
   "source": []
  },
  {
   "cell_type": "code",
   "execution_count": 47,
   "metadata": {},
   "outputs": [
    {
     "data": {
      "text/html": [
       "<div>\n",
       "<style scoped>\n",
       "    .dataframe tbody tr th:only-of-type {\n",
       "        vertical-align: middle;\n",
       "    }\n",
       "\n",
       "    .dataframe tbody tr th {\n",
       "        vertical-align: top;\n",
       "    }\n",
       "\n",
       "    .dataframe thead th {\n",
       "        text-align: right;\n",
       "    }\n",
       "</style>\n",
       "<table border=\"1\" class=\"dataframe\">\n",
       "  <thead>\n",
       "    <tr style=\"text-align: right;\">\n",
       "      <th></th>\n",
       "      <th>total</th>\n",
       "      <th>locked</th>\n",
       "      <th>free</th>\n",
       "      <th>currency</th>\n",
       "      <th>account_id</th>\n",
       "      <th>account_type</th>\n",
       "      <th>base_currency</th>\n",
       "      <th>margins</th>\n",
       "      <th>reported</th>\n",
       "      <th>info</th>\n",
       "    </tr>\n",
       "  </thead>\n",
       "  <tbody>\n",
       "    <tr>\n",
       "      <th>0</th>\n",
       "      <td>100.0</td>\n",
       "      <td>0.0</td>\n",
       "      <td>100.0</td>\n",
       "      <td>BTC</td>\n",
       "      <td>BINANCE-001</td>\n",
       "      <td>CASH</td>\n",
       "      <td>NaN</td>\n",
       "      <td>[]</td>\n",
       "      <td>True</td>\n",
       "      <td>{}</td>\n",
       "    </tr>\n",
       "    <tr>\n",
       "      <th>1</th>\n",
       "      <td>1000000.0</td>\n",
       "      <td>0.0</td>\n",
       "      <td>1000000.0</td>\n",
       "      <td>USDT</td>\n",
       "      <td>BINANCE-001</td>\n",
       "      <td>CASH</td>\n",
       "      <td>NaN</td>\n",
       "      <td>[]</td>\n",
       "      <td>True</td>\n",
       "      <td>{}</td>\n",
       "    </tr>\n",
       "  </tbody>\n",
       "</table>\n",
       "</div>"
      ],
      "text/plain": [
       "       total  locked       free currency   account_id account_type  \\\n",
       "0      100.0     0.0      100.0      BTC  BINANCE-001         CASH   \n",
       "1  1000000.0     0.0  1000000.0     USDT  BINANCE-001         CASH   \n",
       "\n",
       "   base_currency margins  reported info  \n",
       "0            NaN      []      True   {}  \n",
       "1            NaN      []      True   {}  "
      ]
     },
     "execution_count": 47,
     "metadata": {},
     "output_type": "execute_result"
    }
   ],
   "source": [
    "\n",
    "\n",
    "\n",
    "# csv_path = 'results/backtest_0918/BTCUSDT.BINANCE_SPOT_NORMAL/taker_stra_2024040600:00_2024041100:00_xuefeng_0.5_-0.5_maker_0_0.5/'\n",
    "\n",
    "df = pd.read_csv(os.path.join(path, 'account_report.csv'))\n",
    "\n",
    "df.head()"
   ]
  },
  {
   "cell_type": "code",
   "execution_count": 48,
   "metadata": {},
   "outputs": [
    {
     "ename": "EmptyDataError",
     "evalue": "No columns to parse from file",
     "output_type": "error",
     "traceback": [
      "\u001b[0;31m---------------------------------------------------------------------------\u001b[0m",
      "\u001b[0;31mEmptyDataError\u001b[0m                            Traceback (most recent call last)",
      "Cell \u001b[0;32mIn[48], line 3\u001b[0m\n\u001b[1;32m      1\u001b[0m \u001b[38;5;66;03m# csv_path = 'results/backtest_0918/BTCUSDT.BINANCE_SPOT_NORMAL/taker_stra_2024040600:00_2024041100:00_xuefeng_0.5_-0.5_maker_0_0.5/'\u001b[39;00m\n\u001b[0;32m----> 3\u001b[0m df \u001b[38;5;241m=\u001b[39m pd\u001b[38;5;241m.\u001b[39mread_csv(os\u001b[38;5;241m.\u001b[39mpath\u001b[38;5;241m.\u001b[39mjoin(path, \u001b[38;5;124m'\u001b[39m\u001b[38;5;124morder_fills_report.csv\u001b[39m\u001b[38;5;124m'\u001b[39m))\n\u001b[1;32m      5\u001b[0m df\u001b[38;5;241m.\u001b[39mhead()\n",
      "File \u001b[0;32m/data/anaconda3/envs/nautilus/lib/python3.11/site-packages/pandas/io/parsers/readers.py:1026\u001b[0m, in \u001b[0;36mread_csv\u001b[0;34m(filepath_or_buffer, sep, delimiter, header, names, index_col, usecols, dtype, engine, converters, true_values, false_values, skipinitialspace, skiprows, skipfooter, nrows, na_values, keep_default_na, na_filter, verbose, skip_blank_lines, parse_dates, infer_datetime_format, keep_date_col, date_parser, date_format, dayfirst, cache_dates, iterator, chunksize, compression, thousands, decimal, lineterminator, quotechar, quoting, doublequote, escapechar, comment, encoding, encoding_errors, dialect, on_bad_lines, delim_whitespace, low_memory, memory_map, float_precision, storage_options, dtype_backend)\u001b[0m\n\u001b[1;32m   1013\u001b[0m kwds_defaults \u001b[38;5;241m=\u001b[39m _refine_defaults_read(\n\u001b[1;32m   1014\u001b[0m     dialect,\n\u001b[1;32m   1015\u001b[0m     delimiter,\n\u001b[0;32m   (...)\u001b[0m\n\u001b[1;32m   1022\u001b[0m     dtype_backend\u001b[38;5;241m=\u001b[39mdtype_backend,\n\u001b[1;32m   1023\u001b[0m )\n\u001b[1;32m   1024\u001b[0m kwds\u001b[38;5;241m.\u001b[39mupdate(kwds_defaults)\n\u001b[0;32m-> 1026\u001b[0m \u001b[38;5;28;01mreturn\u001b[39;00m _read(filepath_or_buffer, kwds)\n",
      "File \u001b[0;32m/data/anaconda3/envs/nautilus/lib/python3.11/site-packages/pandas/io/parsers/readers.py:620\u001b[0m, in \u001b[0;36m_read\u001b[0;34m(filepath_or_buffer, kwds)\u001b[0m\n\u001b[1;32m    617\u001b[0m _validate_names(kwds\u001b[38;5;241m.\u001b[39mget(\u001b[38;5;124m\"\u001b[39m\u001b[38;5;124mnames\u001b[39m\u001b[38;5;124m\"\u001b[39m, \u001b[38;5;28;01mNone\u001b[39;00m))\n\u001b[1;32m    619\u001b[0m \u001b[38;5;66;03m# Create the parser.\u001b[39;00m\n\u001b[0;32m--> 620\u001b[0m parser \u001b[38;5;241m=\u001b[39m TextFileReader(filepath_or_buffer, \u001b[38;5;241m*\u001b[39m\u001b[38;5;241m*\u001b[39mkwds)\n\u001b[1;32m    622\u001b[0m \u001b[38;5;28;01mif\u001b[39;00m chunksize \u001b[38;5;129;01mor\u001b[39;00m iterator:\n\u001b[1;32m    623\u001b[0m     \u001b[38;5;28;01mreturn\u001b[39;00m parser\n",
      "File \u001b[0;32m/data/anaconda3/envs/nautilus/lib/python3.11/site-packages/pandas/io/parsers/readers.py:1620\u001b[0m, in \u001b[0;36mTextFileReader.__init__\u001b[0;34m(self, f, engine, **kwds)\u001b[0m\n\u001b[1;32m   1617\u001b[0m     \u001b[38;5;28mself\u001b[39m\u001b[38;5;241m.\u001b[39moptions[\u001b[38;5;124m\"\u001b[39m\u001b[38;5;124mhas_index_names\u001b[39m\u001b[38;5;124m\"\u001b[39m] \u001b[38;5;241m=\u001b[39m kwds[\u001b[38;5;124m\"\u001b[39m\u001b[38;5;124mhas_index_names\u001b[39m\u001b[38;5;124m\"\u001b[39m]\n\u001b[1;32m   1619\u001b[0m \u001b[38;5;28mself\u001b[39m\u001b[38;5;241m.\u001b[39mhandles: IOHandles \u001b[38;5;241m|\u001b[39m \u001b[38;5;28;01mNone\u001b[39;00m \u001b[38;5;241m=\u001b[39m \u001b[38;5;28;01mNone\u001b[39;00m\n\u001b[0;32m-> 1620\u001b[0m \u001b[38;5;28mself\u001b[39m\u001b[38;5;241m.\u001b[39m_engine \u001b[38;5;241m=\u001b[39m \u001b[38;5;28mself\u001b[39m\u001b[38;5;241m.\u001b[39m_make_engine(f, \u001b[38;5;28mself\u001b[39m\u001b[38;5;241m.\u001b[39mengine)\n",
      "File \u001b[0;32m/data/anaconda3/envs/nautilus/lib/python3.11/site-packages/pandas/io/parsers/readers.py:1898\u001b[0m, in \u001b[0;36mTextFileReader._make_engine\u001b[0;34m(self, f, engine)\u001b[0m\n\u001b[1;32m   1895\u001b[0m     \u001b[38;5;28;01mraise\u001b[39;00m \u001b[38;5;167;01mValueError\u001b[39;00m(msg)\n\u001b[1;32m   1897\u001b[0m \u001b[38;5;28;01mtry\u001b[39;00m:\n\u001b[0;32m-> 1898\u001b[0m     \u001b[38;5;28;01mreturn\u001b[39;00m mapping[engine](f, \u001b[38;5;241m*\u001b[39m\u001b[38;5;241m*\u001b[39m\u001b[38;5;28mself\u001b[39m\u001b[38;5;241m.\u001b[39moptions)\n\u001b[1;32m   1899\u001b[0m \u001b[38;5;28;01mexcept\u001b[39;00m \u001b[38;5;167;01mException\u001b[39;00m:\n\u001b[1;32m   1900\u001b[0m     \u001b[38;5;28;01mif\u001b[39;00m \u001b[38;5;28mself\u001b[39m\u001b[38;5;241m.\u001b[39mhandles \u001b[38;5;129;01mis\u001b[39;00m \u001b[38;5;129;01mnot\u001b[39;00m \u001b[38;5;28;01mNone\u001b[39;00m:\n",
      "File \u001b[0;32m/data/anaconda3/envs/nautilus/lib/python3.11/site-packages/pandas/io/parsers/c_parser_wrapper.py:93\u001b[0m, in \u001b[0;36mCParserWrapper.__init__\u001b[0;34m(self, src, **kwds)\u001b[0m\n\u001b[1;32m     90\u001b[0m \u001b[38;5;28;01mif\u001b[39;00m kwds[\u001b[38;5;124m\"\u001b[39m\u001b[38;5;124mdtype_backend\u001b[39m\u001b[38;5;124m\"\u001b[39m] \u001b[38;5;241m==\u001b[39m \u001b[38;5;124m\"\u001b[39m\u001b[38;5;124mpyarrow\u001b[39m\u001b[38;5;124m\"\u001b[39m:\n\u001b[1;32m     91\u001b[0m     \u001b[38;5;66;03m# Fail here loudly instead of in cython after reading\u001b[39;00m\n\u001b[1;32m     92\u001b[0m     import_optional_dependency(\u001b[38;5;124m\"\u001b[39m\u001b[38;5;124mpyarrow\u001b[39m\u001b[38;5;124m\"\u001b[39m)\n\u001b[0;32m---> 93\u001b[0m \u001b[38;5;28mself\u001b[39m\u001b[38;5;241m.\u001b[39m_reader \u001b[38;5;241m=\u001b[39m parsers\u001b[38;5;241m.\u001b[39mTextReader(src, \u001b[38;5;241m*\u001b[39m\u001b[38;5;241m*\u001b[39mkwds)\n\u001b[1;32m     95\u001b[0m \u001b[38;5;28mself\u001b[39m\u001b[38;5;241m.\u001b[39munnamed_cols \u001b[38;5;241m=\u001b[39m \u001b[38;5;28mself\u001b[39m\u001b[38;5;241m.\u001b[39m_reader\u001b[38;5;241m.\u001b[39munnamed_cols\n\u001b[1;32m     97\u001b[0m \u001b[38;5;66;03m# error: Cannot determine type of 'names'\u001b[39;00m\n",
      "File \u001b[0;32mparsers.pyx:581\u001b[0m, in \u001b[0;36mpandas._libs.parsers.TextReader.__cinit__\u001b[0;34m()\u001b[0m\n",
      "\u001b[0;31mEmptyDataError\u001b[0m: No columns to parse from file"
     ]
    }
   ],
   "source": [
    "# csv_path = 'results/backtest_0918/BTCUSDT.BINANCE_SPOT_NORMAL/taker_stra_2024040600:00_2024041100:00_xuefeng_0.5_-0.5_maker_0_0.5/'\n",
    "\n",
    "df = pd.read_csv(os.path.join(path, 'order_fills_report.csv'))\n",
    "\n",
    "df.head()"
   ]
  },
  {
   "cell_type": "code",
   "execution_count": 49,
   "metadata": {},
   "outputs": [
    {
     "ename": "EmptyDataError",
     "evalue": "No columns to parse from file",
     "output_type": "error",
     "traceback": [
      "\u001b[0;31m---------------------------------------------------------------------------\u001b[0m",
      "\u001b[0;31mEmptyDataError\u001b[0m                            Traceback (most recent call last)",
      "Cell \u001b[0;32mIn[49], line 3\u001b[0m\n\u001b[1;32m      1\u001b[0m \u001b[38;5;66;03m# csv_path = 'results/backtest_0918/BTCUSDT.BINANCE_SPOT_NORMAL/taker_stra_2024040600:00_2024041100:00_xuefeng_0.5_-0.5_maker_0_0.5/'\u001b[39;00m\n\u001b[0;32m----> 3\u001b[0m df \u001b[38;5;241m=\u001b[39m pd\u001b[38;5;241m.\u001b[39mread_csv(os\u001b[38;5;241m.\u001b[39mpath\u001b[38;5;241m.\u001b[39mjoin(path, \u001b[38;5;124m'\u001b[39m\u001b[38;5;124mpositions_report.csv\u001b[39m\u001b[38;5;124m'\u001b[39m))\n\u001b[1;32m      5\u001b[0m df\u001b[38;5;241m.\u001b[39mhead()\n",
      "File \u001b[0;32m/data/anaconda3/envs/nautilus/lib/python3.11/site-packages/pandas/io/parsers/readers.py:1026\u001b[0m, in \u001b[0;36mread_csv\u001b[0;34m(filepath_or_buffer, sep, delimiter, header, names, index_col, usecols, dtype, engine, converters, true_values, false_values, skipinitialspace, skiprows, skipfooter, nrows, na_values, keep_default_na, na_filter, verbose, skip_blank_lines, parse_dates, infer_datetime_format, keep_date_col, date_parser, date_format, dayfirst, cache_dates, iterator, chunksize, compression, thousands, decimal, lineterminator, quotechar, quoting, doublequote, escapechar, comment, encoding, encoding_errors, dialect, on_bad_lines, delim_whitespace, low_memory, memory_map, float_precision, storage_options, dtype_backend)\u001b[0m\n\u001b[1;32m   1013\u001b[0m kwds_defaults \u001b[38;5;241m=\u001b[39m _refine_defaults_read(\n\u001b[1;32m   1014\u001b[0m     dialect,\n\u001b[1;32m   1015\u001b[0m     delimiter,\n\u001b[0;32m   (...)\u001b[0m\n\u001b[1;32m   1022\u001b[0m     dtype_backend\u001b[38;5;241m=\u001b[39mdtype_backend,\n\u001b[1;32m   1023\u001b[0m )\n\u001b[1;32m   1024\u001b[0m kwds\u001b[38;5;241m.\u001b[39mupdate(kwds_defaults)\n\u001b[0;32m-> 1026\u001b[0m \u001b[38;5;28;01mreturn\u001b[39;00m _read(filepath_or_buffer, kwds)\n",
      "File \u001b[0;32m/data/anaconda3/envs/nautilus/lib/python3.11/site-packages/pandas/io/parsers/readers.py:620\u001b[0m, in \u001b[0;36m_read\u001b[0;34m(filepath_or_buffer, kwds)\u001b[0m\n\u001b[1;32m    617\u001b[0m _validate_names(kwds\u001b[38;5;241m.\u001b[39mget(\u001b[38;5;124m\"\u001b[39m\u001b[38;5;124mnames\u001b[39m\u001b[38;5;124m\"\u001b[39m, \u001b[38;5;28;01mNone\u001b[39;00m))\n\u001b[1;32m    619\u001b[0m \u001b[38;5;66;03m# Create the parser.\u001b[39;00m\n\u001b[0;32m--> 620\u001b[0m parser \u001b[38;5;241m=\u001b[39m TextFileReader(filepath_or_buffer, \u001b[38;5;241m*\u001b[39m\u001b[38;5;241m*\u001b[39mkwds)\n\u001b[1;32m    622\u001b[0m \u001b[38;5;28;01mif\u001b[39;00m chunksize \u001b[38;5;129;01mor\u001b[39;00m iterator:\n\u001b[1;32m    623\u001b[0m     \u001b[38;5;28;01mreturn\u001b[39;00m parser\n",
      "File \u001b[0;32m/data/anaconda3/envs/nautilus/lib/python3.11/site-packages/pandas/io/parsers/readers.py:1620\u001b[0m, in \u001b[0;36mTextFileReader.__init__\u001b[0;34m(self, f, engine, **kwds)\u001b[0m\n\u001b[1;32m   1617\u001b[0m     \u001b[38;5;28mself\u001b[39m\u001b[38;5;241m.\u001b[39moptions[\u001b[38;5;124m\"\u001b[39m\u001b[38;5;124mhas_index_names\u001b[39m\u001b[38;5;124m\"\u001b[39m] \u001b[38;5;241m=\u001b[39m kwds[\u001b[38;5;124m\"\u001b[39m\u001b[38;5;124mhas_index_names\u001b[39m\u001b[38;5;124m\"\u001b[39m]\n\u001b[1;32m   1619\u001b[0m \u001b[38;5;28mself\u001b[39m\u001b[38;5;241m.\u001b[39mhandles: IOHandles \u001b[38;5;241m|\u001b[39m \u001b[38;5;28;01mNone\u001b[39;00m \u001b[38;5;241m=\u001b[39m \u001b[38;5;28;01mNone\u001b[39;00m\n\u001b[0;32m-> 1620\u001b[0m \u001b[38;5;28mself\u001b[39m\u001b[38;5;241m.\u001b[39m_engine \u001b[38;5;241m=\u001b[39m \u001b[38;5;28mself\u001b[39m\u001b[38;5;241m.\u001b[39m_make_engine(f, \u001b[38;5;28mself\u001b[39m\u001b[38;5;241m.\u001b[39mengine)\n",
      "File \u001b[0;32m/data/anaconda3/envs/nautilus/lib/python3.11/site-packages/pandas/io/parsers/readers.py:1898\u001b[0m, in \u001b[0;36mTextFileReader._make_engine\u001b[0;34m(self, f, engine)\u001b[0m\n\u001b[1;32m   1895\u001b[0m     \u001b[38;5;28;01mraise\u001b[39;00m \u001b[38;5;167;01mValueError\u001b[39;00m(msg)\n\u001b[1;32m   1897\u001b[0m \u001b[38;5;28;01mtry\u001b[39;00m:\n\u001b[0;32m-> 1898\u001b[0m     \u001b[38;5;28;01mreturn\u001b[39;00m mapping[engine](f, \u001b[38;5;241m*\u001b[39m\u001b[38;5;241m*\u001b[39m\u001b[38;5;28mself\u001b[39m\u001b[38;5;241m.\u001b[39moptions)\n\u001b[1;32m   1899\u001b[0m \u001b[38;5;28;01mexcept\u001b[39;00m \u001b[38;5;167;01mException\u001b[39;00m:\n\u001b[1;32m   1900\u001b[0m     \u001b[38;5;28;01mif\u001b[39;00m \u001b[38;5;28mself\u001b[39m\u001b[38;5;241m.\u001b[39mhandles \u001b[38;5;129;01mis\u001b[39;00m \u001b[38;5;129;01mnot\u001b[39;00m \u001b[38;5;28;01mNone\u001b[39;00m:\n",
      "File \u001b[0;32m/data/anaconda3/envs/nautilus/lib/python3.11/site-packages/pandas/io/parsers/c_parser_wrapper.py:93\u001b[0m, in \u001b[0;36mCParserWrapper.__init__\u001b[0;34m(self, src, **kwds)\u001b[0m\n\u001b[1;32m     90\u001b[0m \u001b[38;5;28;01mif\u001b[39;00m kwds[\u001b[38;5;124m\"\u001b[39m\u001b[38;5;124mdtype_backend\u001b[39m\u001b[38;5;124m\"\u001b[39m] \u001b[38;5;241m==\u001b[39m \u001b[38;5;124m\"\u001b[39m\u001b[38;5;124mpyarrow\u001b[39m\u001b[38;5;124m\"\u001b[39m:\n\u001b[1;32m     91\u001b[0m     \u001b[38;5;66;03m# Fail here loudly instead of in cython after reading\u001b[39;00m\n\u001b[1;32m     92\u001b[0m     import_optional_dependency(\u001b[38;5;124m\"\u001b[39m\u001b[38;5;124mpyarrow\u001b[39m\u001b[38;5;124m\"\u001b[39m)\n\u001b[0;32m---> 93\u001b[0m \u001b[38;5;28mself\u001b[39m\u001b[38;5;241m.\u001b[39m_reader \u001b[38;5;241m=\u001b[39m parsers\u001b[38;5;241m.\u001b[39mTextReader(src, \u001b[38;5;241m*\u001b[39m\u001b[38;5;241m*\u001b[39mkwds)\n\u001b[1;32m     95\u001b[0m \u001b[38;5;28mself\u001b[39m\u001b[38;5;241m.\u001b[39munnamed_cols \u001b[38;5;241m=\u001b[39m \u001b[38;5;28mself\u001b[39m\u001b[38;5;241m.\u001b[39m_reader\u001b[38;5;241m.\u001b[39munnamed_cols\n\u001b[1;32m     97\u001b[0m \u001b[38;5;66;03m# error: Cannot determine type of 'names'\u001b[39;00m\n",
      "File \u001b[0;32mparsers.pyx:581\u001b[0m, in \u001b[0;36mpandas._libs.parsers.TextReader.__cinit__\u001b[0;34m()\u001b[0m\n",
      "\u001b[0;31mEmptyDataError\u001b[0m: No columns to parse from file"
     ]
    }
   ],
   "source": [
    "# csv_path = 'results/backtest_0918/BTCUSDT.BINANCE_SPOT_NORMAL/taker_stra_2024040600:00_2024041100:00_xuefeng_0.5_-0.5_maker_0_0.5/'\n",
    "\n",
    "df = pd.read_csv(os.path.join(path, 'positions_report.csv'))\n",
    "\n",
    "df.head()"
   ]
  },
  {
   "cell_type": "code",
   "execution_count": 17,
   "metadata": {},
   "outputs": [
    {
     "name": "stdout",
     "output_type": "stream",
     "text": [
      "li\n",
      "lk\n",
      "lh\n",
      "c\n",
      "d\n"
     ]
    }
   ],
   "source": [
    "\n",
    "\n",
    "ls = {'li': 100, \"lk\": 200, \"lh\": 300, 'c': 400, 'd': 500}\n",
    "\n",
    "k = list(ls.items())\n",
    "\n",
    "for i in range( len(ls) ):\n",
    "    print(k[i][0])"
   ]
  },
  {
   "cell_type": "code",
   "execution_count": 19,
   "metadata": {},
   "outputs": [],
   "source": [
    "data_row_0 = [ [k[i][0], k[i][1]] for i in range(len(ls)) ]"
   ]
  },
  {
   "cell_type": "code",
   "execution_count": 20,
   "metadata": {},
   "outputs": [
    {
     "data": {
      "text/plain": [
       "[['li', 100], ['lk', 200], ['lh', 300], ['c', 400], ['d', 500]]"
      ]
     },
     "execution_count": 20,
     "metadata": {},
     "output_type": "execute_result"
    }
   ],
   "source": [
    "data_row_0"
   ]
  },
  {
   "cell_type": "code",
   "execution_count": 21,
   "metadata": {},
   "outputs": [],
   "source": [
    "lin = {'li': 100, \"lk\": 200, \"lh\": 300, 'c': 400, 'd': 500}\n",
    "m = list(lin.items())\n",
    "\n",
    "data_row_1 = [ [m[i][0], m[i][1]] for i in range(len(m)) ]"
   ]
  },
  {
   "cell_type": "code",
   "execution_count": 22,
   "metadata": {},
   "outputs": [
    {
     "data": {
      "text/plain": [
       "[['li', 100], ['lk', 200], ['lh', 300], ['c', 400], ['d', 500]]"
      ]
     },
     "execution_count": 22,
     "metadata": {},
     "output_type": "execute_result"
    }
   ],
   "source": [
    "data_row_1"
   ]
  },
  {
   "cell_type": "code",
   "execution_count": 23,
   "metadata": {},
   "outputs": [
    {
     "data": {
      "text/plain": [
       "[['li', 100],\n",
       " ['lk', 200],\n",
       " ['lh', 300],\n",
       " ['c', 400],\n",
       " ['d', 500],\n",
       " ['li', 100],\n",
       " ['lk', 200],\n",
       " ['lh', 300],\n",
       " ['c', 400],\n",
       " ['d', 500]]"
      ]
     },
     "execution_count": 23,
     "metadata": {},
     "output_type": "execute_result"
    }
   ],
   "source": [
    "data_row_0 + data_row_1"
   ]
  },
  {
   "cell_type": "code",
   "execution_count": null,
   "metadata": {},
   "outputs": [],
   "source": []
  }
 ],
 "metadata": {
  "kernelspec": {
   "display_name": "nautilus",
   "language": "python",
   "name": "python3"
  },
  "language_info": {
   "codemirror_mode": {
    "name": "ipython",
    "version": 3
   },
   "file_extension": ".py",
   "mimetype": "text/x-python",
   "name": "python",
   "nbconvert_exporter": "python",
   "pygments_lexer": "ipython3",
   "version": "3.11.8"
  }
 },
 "nbformat": 4,
 "nbformat_minor": 2
}
